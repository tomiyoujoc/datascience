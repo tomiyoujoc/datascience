{
 "cells": [
  {
   "cell_type": "code",
   "execution_count": 1,
   "metadata": {},
   "outputs": [],
   "source": [
    "import numpy as np\n",
    "import pandas as pd\n",
    "import matplotlib.pyplot as plt\n",
    "import seaborn as sns\n",
    "%matplotlib inline"
   ]
  },
  {
   "cell_type": "code",
   "execution_count": 2,
   "metadata": {},
   "outputs": [],
   "source": [
    "import scipy.stats as stats"
   ]
  },
  {
   "cell_type": "code",
   "execution_count": 3,
   "metadata": {},
   "outputs": [],
   "source": [
    "from mylib import dispgraph\n",
    "from mylib import prepare"
   ]
  },
  {
   "cell_type": "code",
   "execution_count": 4,
   "metadata": {
    "scrolled": true
   },
   "outputs": [
    {
     "name": "stdout",
     "output_type": "stream",
     "text": [
      "X_train:(623, 11)\n",
      "y_train:(623,)\n",
      "X_test :(268, 11)\n",
      "y_test :(268,)\n"
     ]
    },
    {
     "name": "stderr",
     "output_type": "stream",
     "text": [
      "C:\\Users\\tomiyou\\Anaconda3\\lib\\site-packages\\sklearn\\model_selection\\_split.py:2026: FutureWarning: From version 0.21, test_size will always complement train_size unless both are specified.\n",
      "  FutureWarning)\n"
     ]
    }
   ],
   "source": [
    "train_data = pd.read_csv(\"data/train.csv\")\n",
    "X_train, X_test, y_train, y_test = prepare.split_data(train_data, \"Survived\")"
   ]
  },
  {
   "cell_type": "code",
   "execution_count": 5,
   "metadata": {},
   "outputs": [
    {
     "data": {
      "text/html": [
       "<div>\n",
       "<style scoped>\n",
       "    .dataframe tbody tr th:only-of-type {\n",
       "        vertical-align: middle;\n",
       "    }\n",
       "\n",
       "    .dataframe tbody tr th {\n",
       "        vertical-align: top;\n",
       "    }\n",
       "\n",
       "    .dataframe thead th {\n",
       "        text-align: right;\n",
       "    }\n",
       "</style>\n",
       "<table border=\"1\" class=\"dataframe\">\n",
       "  <thead>\n",
       "    <tr style=\"text-align: right;\">\n",
       "      <th></th>\n",
       "      <th>PassengerId</th>\n",
       "      <th>Survived</th>\n",
       "      <th>Pclass</th>\n",
       "      <th>Name</th>\n",
       "      <th>Sex</th>\n",
       "      <th>Age</th>\n",
       "      <th>SibSp</th>\n",
       "      <th>Parch</th>\n",
       "      <th>Ticket</th>\n",
       "      <th>Fare</th>\n",
       "      <th>Cabin</th>\n",
       "      <th>Embarked</th>\n",
       "    </tr>\n",
       "  </thead>\n",
       "  <tbody>\n",
       "    <tr>\n",
       "      <th>0</th>\n",
       "      <td>1</td>\n",
       "      <td>0</td>\n",
       "      <td>3</td>\n",
       "      <td>Braund, Mr. Owen Harris</td>\n",
       "      <td>male</td>\n",
       "      <td>22.0</td>\n",
       "      <td>1</td>\n",
       "      <td>0</td>\n",
       "      <td>A/5 21171</td>\n",
       "      <td>7.2500</td>\n",
       "      <td>NaN</td>\n",
       "      <td>S</td>\n",
       "    </tr>\n",
       "    <tr>\n",
       "      <th>1</th>\n",
       "      <td>2</td>\n",
       "      <td>1</td>\n",
       "      <td>1</td>\n",
       "      <td>Cumings, Mrs. John Bradley (Florence Briggs Th...</td>\n",
       "      <td>female</td>\n",
       "      <td>38.0</td>\n",
       "      <td>1</td>\n",
       "      <td>0</td>\n",
       "      <td>PC 17599</td>\n",
       "      <td>71.2833</td>\n",
       "      <td>C85</td>\n",
       "      <td>C</td>\n",
       "    </tr>\n",
       "    <tr>\n",
       "      <th>2</th>\n",
       "      <td>3</td>\n",
       "      <td>1</td>\n",
       "      <td>3</td>\n",
       "      <td>Heikkinen, Miss. Laina</td>\n",
       "      <td>female</td>\n",
       "      <td>26.0</td>\n",
       "      <td>0</td>\n",
       "      <td>0</td>\n",
       "      <td>STON/O2. 3101282</td>\n",
       "      <td>7.9250</td>\n",
       "      <td>NaN</td>\n",
       "      <td>S</td>\n",
       "    </tr>\n",
       "    <tr>\n",
       "      <th>3</th>\n",
       "      <td>4</td>\n",
       "      <td>1</td>\n",
       "      <td>1</td>\n",
       "      <td>Futrelle, Mrs. Jacques Heath (Lily May Peel)</td>\n",
       "      <td>female</td>\n",
       "      <td>35.0</td>\n",
       "      <td>1</td>\n",
       "      <td>0</td>\n",
       "      <td>113803</td>\n",
       "      <td>53.1000</td>\n",
       "      <td>C123</td>\n",
       "      <td>S</td>\n",
       "    </tr>\n",
       "    <tr>\n",
       "      <th>4</th>\n",
       "      <td>5</td>\n",
       "      <td>0</td>\n",
       "      <td>3</td>\n",
       "      <td>Allen, Mr. William Henry</td>\n",
       "      <td>male</td>\n",
       "      <td>35.0</td>\n",
       "      <td>0</td>\n",
       "      <td>0</td>\n",
       "      <td>373450</td>\n",
       "      <td>8.0500</td>\n",
       "      <td>NaN</td>\n",
       "      <td>S</td>\n",
       "    </tr>\n",
       "  </tbody>\n",
       "</table>\n",
       "</div>"
      ],
      "text/plain": [
       "   PassengerId  Survived  Pclass  \\\n",
       "0            1         0       3   \n",
       "1            2         1       1   \n",
       "2            3         1       3   \n",
       "3            4         1       1   \n",
       "4            5         0       3   \n",
       "\n",
       "                                                Name     Sex   Age  SibSp  \\\n",
       "0                            Braund, Mr. Owen Harris    male  22.0      1   \n",
       "1  Cumings, Mrs. John Bradley (Florence Briggs Th...  female  38.0      1   \n",
       "2                             Heikkinen, Miss. Laina  female  26.0      0   \n",
       "3       Futrelle, Mrs. Jacques Heath (Lily May Peel)  female  35.0      1   \n",
       "4                           Allen, Mr. William Henry    male  35.0      0   \n",
       "\n",
       "   Parch            Ticket     Fare Cabin Embarked  \n",
       "0      0         A/5 21171   7.2500   NaN        S  \n",
       "1      0          PC 17599  71.2833   C85        C  \n",
       "2      0  STON/O2. 3101282   7.9250   NaN        S  \n",
       "3      0            113803  53.1000  C123        S  \n",
       "4      0            373450   8.0500   NaN        S  "
      ]
     },
     "execution_count": 5,
     "metadata": {},
     "output_type": "execute_result"
    }
   ],
   "source": [
    "train_data.head()"
   ]
  },
  {
   "cell_type": "code",
   "execution_count": 6,
   "metadata": {},
   "outputs": [
    {
     "data": {
      "image/png": "[encoded data removed]",
      "text/plain": [
       "<matplotlib.figure.Figure at 0x21d399ef160>"
      ]
     },
     "metadata": {},
     "output_type": "display_data"
    }
   ],
   "source": [
    "dispgraph.plot_all_distribution(train_data, \"Survived\")"
   ]
  },
  {
   "cell_type": "markdown",
   "metadata": {},
   "source": [
    "### 性別により、生存率に差がある"
   ]
  },
  {
   "cell_type": "code",
   "execution_count": 7,
   "metadata": {},
   "outputs": [
    {
     "data": {
      "image/png": "[encoded data removed]",
      "text/plain": [
       "<matplotlib.figure.Figure at 0x21d3d3adc88>"
      ]
     },
     "metadata": {},
     "output_type": "display_data"
    }
   ],
   "source": [
    "dispgraph.plot_distribution(train_data, \"Sex\", \"Survived\")"
   ]
  },
  {
   "cell_type": "code",
   "execution_count": 8,
   "metadata": {},
   "outputs": [
    {
     "data": {
      "text/plain": [
       "Sex\n",
       "female    0.742038\n",
       "male      0.188908\n",
       "Name: Survived, dtype: float64"
      ]
     },
     "execution_count": 8,
     "metadata": {},
     "output_type": "execute_result"
    }
   ],
   "source": [
    "train_data.groupby([\"Sex\"])[\"Survived\"].mean()"
   ]
  },
  {
   "cell_type": "code",
   "execution_count": 9,
   "metadata": {},
   "outputs": [
    {
     "data": {
      "text/plain": [
       "Ttest_indResult(statistic=-18.67183317725917, pvalue=2.2836009226010537e-61)"
      ]
     },
     "execution_count": 9,
     "metadata": {},
     "output_type": "execute_result"
    }
   ],
   "source": [
    "male_data = train_data.loc[train_data[\"Sex\"] == \"male\", \"Survived\"]\n",
    "female_data = train_data.loc[train_data[\"Sex\"] == \"female\", \"Survived\"]\n",
    "res = stats.ttest_ind(male_data, female_data, equal_var = False)\n",
    "res"
   ]
  },
  {
   "cell_type": "markdown",
   "metadata": {},
   "source": [
    "### Nameから敬称を取り出す"
   ]
  },
  {
   "cell_type": "code",
   "execution_count": 10,
   "metadata": {},
   "outputs": [],
   "source": [
    "train_data['Title'] = train_data['Name'].str.split(\", \", expand=True)[1].str.split(\".\", expand=True)[0]\n",
    "train_data['Title'] = train_data['Title'].replace({'Mlle': 'Miss', 'Ms': 'Miss', 'Mme':'Mrs'})\n",
    "fixed_title = [\"Mr\", \"Miss\", \"Mrs\", \"Master\"]"
   ]
  },
  {
   "cell_type": "code",
   "execution_count": 11,
   "metadata": {},
   "outputs": [
    {
     "data": {
      "image/png": "[encoded data removed]",
      "text/plain": [
       "<matplotlib.figure.Figure at 0x21d3d70f828>"
      ]
     },
     "metadata": {},
     "output_type": "display_data"
    }
   ],
   "source": [
    "rare_title_data = train_data[~(train_data[\"Title\"].isin(fixed_title))]\n",
    "dispgraph.plot_distribution(rare_title_data, \"Title\", \"Survived\")"
   ]
  },
  {
   "cell_type": "markdown",
   "metadata": {},
   "source": [
    "一般的でない敬称についてはデータ数が少ないため、Rareにまとめる"
   ]
  },
  {
   "cell_type": "code",
   "execution_count": 12,
   "metadata": {},
   "outputs": [],
   "source": [
    "train_data.loc[~(train_data[\"Title\"].isin(fixed_title)), \"Title\"] = \"Rare\""
   ]
  },
  {
   "cell_type": "markdown",
   "metadata": {},
   "source": [
    "敬称の違いにより、生存率に差がありそうである"
   ]
  },
  {
   "cell_type": "code",
   "execution_count": 13,
   "metadata": {},
   "outputs": [
    {
     "data": {
      "image/png": "[encoded data removed]",
      "text/plain": [
       "<matplotlib.figure.Figure at 0x21d3d70f278>"
      ]
     },
     "metadata": {},
     "output_type": "display_data"
    }
   ],
   "source": [
    "dispgraph.plot_distribution(train_data, \"Title\", \"Survived\")"
   ]
  },
  {
   "cell_type": "code",
   "execution_count": 14,
   "metadata": {},
   "outputs": [
    {
     "data": {
      "text/html": [
       "<div>\n",
       "<style scoped>\n",
       "    .dataframe tbody tr th:only-of-type {\n",
       "        vertical-align: middle;\n",
       "    }\n",
       "\n",
       "    .dataframe tbody tr th {\n",
       "        vertical-align: top;\n",
       "    }\n",
       "\n",
       "    .dataframe thead th {\n",
       "        text-align: right;\n",
       "    }\n",
       "</style>\n",
       "<table border=\"1\" class=\"dataframe\">\n",
       "  <thead>\n",
       "    <tr style=\"text-align: right;\">\n",
       "      <th>Survived</th>\n",
       "      <th>0</th>\n",
       "      <th>1</th>\n",
       "    </tr>\n",
       "    <tr>\n",
       "      <th>Title</th>\n",
       "      <th></th>\n",
       "      <th></th>\n",
       "    </tr>\n",
       "  </thead>\n",
       "  <tbody>\n",
       "    <tr>\n",
       "      <th>Master</th>\n",
       "      <td>17</td>\n",
       "      <td>23</td>\n",
       "    </tr>\n",
       "    <tr>\n",
       "      <th>Miss</th>\n",
       "      <td>55</td>\n",
       "      <td>130</td>\n",
       "    </tr>\n",
       "    <tr>\n",
       "      <th>Mr</th>\n",
       "      <td>436</td>\n",
       "      <td>81</td>\n",
       "    </tr>\n",
       "    <tr>\n",
       "      <th>Mrs</th>\n",
       "      <td>26</td>\n",
       "      <td>100</td>\n",
       "    </tr>\n",
       "    <tr>\n",
       "      <th>Rare</th>\n",
       "      <td>15</td>\n",
       "      <td>8</td>\n",
       "    </tr>\n",
       "  </tbody>\n",
       "</table>\n",
       "</div>"
      ],
      "text/plain": [
       "Survived    0    1\n",
       "Title             \n",
       "Master     17   23\n",
       "Miss       55  130\n",
       "Mr        436   81\n",
       "Mrs        26  100\n",
       "Rare       15    8"
      ]
     },
     "execution_count": 14,
     "metadata": {},
     "output_type": "execute_result"
    }
   ],
   "source": [
    "pd.crosstab(train_data[\"Title\"], train_data[\"Survived\"])"
   ]
  },
  {
   "cell_type": "markdown",
   "metadata": {},
   "source": [
    "敬称と性別が正しく紐づいているか（誤りがないか）確認"
   ]
  },
  {
   "cell_type": "code",
   "execution_count": 15,
   "metadata": {},
   "outputs": [
    {
     "data": {
      "text/html": [
       "<div>\n",
       "<style scoped>\n",
       "    .dataframe tbody tr th:only-of-type {\n",
       "        vertical-align: middle;\n",
       "    }\n",
       "\n",
       "    .dataframe tbody tr th {\n",
       "        vertical-align: top;\n",
       "    }\n",
       "\n",
       "    .dataframe thead th {\n",
       "        text-align: right;\n",
       "    }\n",
       "</style>\n",
       "<table border=\"1\" class=\"dataframe\">\n",
       "  <thead>\n",
       "    <tr style=\"text-align: right;\">\n",
       "      <th>Sex</th>\n",
       "      <th>female</th>\n",
       "      <th>male</th>\n",
       "    </tr>\n",
       "    <tr>\n",
       "      <th>Title</th>\n",
       "      <th></th>\n",
       "      <th></th>\n",
       "    </tr>\n",
       "  </thead>\n",
       "  <tbody>\n",
       "    <tr>\n",
       "      <th>Master</th>\n",
       "      <td>0</td>\n",
       "      <td>40</td>\n",
       "    </tr>\n",
       "    <tr>\n",
       "      <th>Miss</th>\n",
       "      <td>185</td>\n",
       "      <td>0</td>\n",
       "    </tr>\n",
       "    <tr>\n",
       "      <th>Mr</th>\n",
       "      <td>0</td>\n",
       "      <td>517</td>\n",
       "    </tr>\n",
       "    <tr>\n",
       "      <th>Mrs</th>\n",
       "      <td>126</td>\n",
       "      <td>0</td>\n",
       "    </tr>\n",
       "    <tr>\n",
       "      <th>Rare</th>\n",
       "      <td>3</td>\n",
       "      <td>20</td>\n",
       "    </tr>\n",
       "  </tbody>\n",
       "</table>\n",
       "</div>"
      ],
      "text/plain": [
       "Sex     female  male\n",
       "Title               \n",
       "Master       0    40\n",
       "Miss       185     0\n",
       "Mr           0   517\n",
       "Mrs        126     0\n",
       "Rare         3    20"
      ]
     },
     "execution_count": 15,
     "metadata": {},
     "output_type": "execute_result"
    }
   ],
   "source": [
    "pd.crosstab(train_data[\"Title\"], train_data[\"Sex\"])"
   ]
  },
  {
   "cell_type": "code",
   "execution_count": 16,
   "metadata": {},
   "outputs": [
    {
     "data": {
      "text/plain": [
       "Title\n",
       "Master    0.575000\n",
       "Miss      0.702703\n",
       "Mr        0.156673\n",
       "Mrs       0.793651\n",
       "Rare      0.347826\n",
       "Name: Survived, dtype: float64"
      ]
     },
     "execution_count": 16,
     "metadata": {},
     "output_type": "execute_result"
    }
   ],
   "source": [
    "train_data.groupby([\"Title\"])[\"Survived\"].mean()"
   ]
  },
  {
   "cell_type": "markdown",
   "metadata": {},
   "source": [
    "### MissとMrsでは、多少Mrsのほうが生存率が高い"
   ]
  },
  {
   "cell_type": "code",
   "execution_count": 17,
   "metadata": {},
   "outputs": [
    {
     "data": {
      "text/plain": [
       "Ttest_indResult(statistic=-1.8391025418276266, pvalue=0.06692805935397572)"
      ]
     },
     "execution_count": 17,
     "metadata": {},
     "output_type": "execute_result"
    }
   ],
   "source": [
    "from scipy import stats\n",
    "miss_data = train_data.loc[train_data[\"Title\"] == \"Miss\", \"Survived\"]\n",
    "mrs_data = train_data.loc[train_data[\"Title\"] == \"Mrs\", \"Survived\"]\n",
    "res = stats.ttest_ind(miss_data, mrs_data, equal_var = False)\n",
    "res"
   ]
  },
  {
   "cell_type": "markdown",
   "metadata": {},
   "source": [
    "Mrsは、相対的に子供連れの人が多いから、子供と一緒に助られ生存率が高いのか検証する"
   ]
  },
  {
   "cell_type": "markdown",
   "metadata": {},
   "source": [
    "### 親または子の同乗者数に限らず、Mrsの方が全体的に生存率は高い"
   ]
  },
  {
   "cell_type": "code",
   "execution_count": 18,
   "metadata": {},
   "outputs": [
    {
     "data": {
      "text/plain": [
       "<matplotlib.axes._subplots.AxesSubplot at 0x21d3dd2ec88>"
      ]
     },
     "execution_count": 18,
     "metadata": {},
     "output_type": "execute_result"
    },
    {
     "data": {
      "image/png": "[encoded data removed]",
      "text/plain": [
       "<matplotlib.figure.Figure at 0x21d3d7499b0>"
      ]
     },
     "metadata": {},
     "output_type": "display_data"
    }
   ],
   "source": [
    "female_data = train_data[train_data[\"Sex\"] == \"female\"]\n",
    "female_data = female_data[female_data[\"Title\"] != \"Rare\"]\n",
    "sns.pointplot(\"Parch\", \"Survived\", hue=\"Title\", data=female_data)"
   ]
  },
  {
   "cell_type": "markdown",
   "metadata": {},
   "source": [
    "### 男性の場合、親または子の同乗者が1～2名いるときに生存率が上がる"
   ]
  },
  {
   "cell_type": "code",
   "execution_count": 19,
   "metadata": {},
   "outputs": [
    {
     "data": {
      "text/plain": [
       "<matplotlib.axes._subplots.AxesSubplot at 0x21d3dc6fb38>"
      ]
     },
     "execution_count": 19,
     "metadata": {},
     "output_type": "execute_result"
    },
    {
     "data": {
      "image/png": "[encoded data removed]",
      "text/plain": [
       "<matplotlib.figure.Figure at 0x21d3897d1d0>"
      ]
     },
     "metadata": {},
     "output_type": "display_data"
    }
   ],
   "source": [
    "sns.pointplot(\"Parch\", \"Survived\", hue=\"Sex\", data=train_data)"
   ]
  },
  {
   "cell_type": "markdown",
   "metadata": {},
   "source": [
    "兄弟の同乗者数はどんな特徴があるか次で確認する"
   ]
  },
  {
   "cell_type": "markdown",
   "metadata": {},
   "source": [
    "### 兄弟の同乗者数についても、親または子の同乗者数と近い傾向がありそう"
   ]
  },
  {
   "cell_type": "code",
   "execution_count": 20,
   "metadata": {},
   "outputs": [
    {
     "data": {
      "text/plain": [
       "<matplotlib.axes._subplots.AxesSubplot at 0x21d3d90cc88>"
      ]
     },
     "execution_count": 20,
     "metadata": {},
     "output_type": "execute_result"
    },
    {
     "data": {
      "image/png": "[encoded data removed]",
      "text/plain": [
       "<matplotlib.figure.Figure at 0x21d3d955208>"
      ]
     },
     "metadata": {},
     "output_type": "display_data"
    }
   ],
   "source": [
    "sns.pointplot(\"SibSp\", \"Survived\", hue=\"Sex\", data=train_data)"
   ]
  },
  {
   "cell_type": "markdown",
   "metadata": {},
   "source": [
    "### 親/子、兄弟の同乗者数を合算した家族数で見るといくつかの傾向が見えてくる\n",
    "* 男女関係なく、4人以上のとき生存率は下がる傾向がある。\n",
    "* 女性は、0～3人はほとんど生存率に差がない\n",
    "* 男性は、0～3人までは生存率が高くなっていく傾向がある。"
   ]
  },
  {
   "cell_type": "code",
   "execution_count": 21,
   "metadata": {
    "scrolled": false
   },
   "outputs": [
    {
     "name": "stderr",
     "output_type": "stream",
     "text": [
      "C:\\Users\\tomiyou\\Anaconda3\\lib\\site-packages\\ipykernel_launcher.py:2: SettingWithCopyWarning: \n",
      "A value is trying to be set on a copy of a slice from a DataFrame.\n",
      "Try using .loc[row_indexer,col_indexer] = value instead\n",
      "\n",
      "See the caveats in the documentation: http://pandas.pydata.org/pandas-docs/stable/indexing.html#indexing-view-versus-copy\n",
      "  \n"
     ]
    },
    {
     "data": {
      "text/plain": [
       "<matplotlib.axes._subplots.AxesSubplot at 0x21d3dca3860>"
      ]
     },
     "execution_count": 21,
     "metadata": {},
     "output_type": "execute_result"
    },
    {
     "data": {
      "image/png": "[encoded data removed]",
      "text/plain": [
       "<matplotlib.figure.Figure at 0x21d3d6f5198>"
      ]
     },
     "metadata": {},
     "output_type": "display_data"
    }
   ],
   "source": [
    "add_family_size = train_data[[\"Survived\", \"Sex\"]]\n",
    "add_family_size[\"FamilySize\"] = train_data[\"Parch\"] + train_data[\"SibSp\"]\n",
    "sns.pointplot(\"FamilySize\", \"Survived\", hue=\"Sex\", data=add_family_size)"
   ]
  },
  {
   "cell_type": "markdown",
   "metadata": {},
   "source": [
    "### 男性の中でもMasterは生存率が高い"
   ]
  },
  {
   "cell_type": "code",
   "execution_count": 22,
   "metadata": {},
   "outputs": [
    {
     "data": {
      "text/plain": [
       "Sex     Title \n",
       "female  Miss      0.702703\n",
       "        Mrs       0.793651\n",
       "        Rare      1.000000\n",
       "male    Master    0.575000\n",
       "        Mr        0.156673\n",
       "        Rare      0.250000\n",
       "Name: Survived, dtype: float64"
      ]
     },
     "execution_count": 22,
     "metadata": {},
     "output_type": "execute_result"
    }
   ],
   "source": [
    "train_data.groupby([\"Sex\", \"Title\"])[\"Survived\"].mean()"
   ]
  },
  {
   "cell_type": "code",
   "execution_count": 23,
   "metadata": {},
   "outputs": [
    {
     "data": {
      "text/plain": [
       "Ttest_indResult(statistic=5.179913995771626, pvalue=5.842939487676502e-06)"
      ]
     },
     "execution_count": 23,
     "metadata": {},
     "output_type": "execute_result"
    }
   ],
   "source": [
    "master_data = train_data.loc[train_data[\"Title\"] == \"Master\", \"Survived\"]\n",
    "mr_data = train_data.loc[train_data[\"Title\"] == \"Mr\", \"Survived\"]\n",
    "res = stats.ttest_ind(master_data, mr_data, equal_var = False)\n",
    "res"
   ]
  },
  {
   "cell_type": "markdown",
   "metadata": {},
   "source": [
    "### （Masterというよりは）年齢が低い子供の生存確率は高い（男性or女性関係なく）\n",
    "* 他の年代はあまり生存率に差はなさそう"
   ]
  },
  {
   "cell_type": "code",
   "execution_count": 24,
   "metadata": {},
   "outputs": [
    {
     "data": {
      "text/plain": [
       "<seaborn.axisgrid.FacetGrid at 0x21d3d89ab00>"
      ]
     },
     "execution_count": 24,
     "metadata": {},
     "output_type": "execute_result"
    },
    {
     "data": {
      "image/png": "[encoded data removed]",
      "text/plain": [
       "<matplotlib.figure.Figure at 0x21d3d89a128>"
      ]
     },
     "metadata": {},
     "output_type": "display_data"
    }
   ],
   "source": [
    "a = sns.FacetGrid(train_data, hue = 'Survived', aspect=4 )\n",
    "a.map(sns.kdeplot, 'Age', shade= True )\n",
    "a.set(xlim=(0 , train_data['Age'].max()))\n",
    "a.add_legend()"
   ]
  },
  {
   "cell_type": "code",
   "execution_count": 25,
   "metadata": {},
   "outputs": [
    {
     "name": "stderr",
     "output_type": "stream",
     "text": [
      "C:\\Users\\tomiyou\\Anaconda3\\lib\\site-packages\\ipykernel_launcher.py:2: SettingWithCopyWarning: \n",
      "A value is trying to be set on a copy of a slice from a DataFrame.\n",
      "Try using .loc[row_indexer,col_indexer] = value instead\n",
      "\n",
      "See the caveats in the documentation: http://pandas.pydata.org/pandas-docs/stable/indexing.html#indexing-view-versus-copy\n",
      "  \n"
     ]
    },
    {
     "data": {
      "text/html": [
       "<div>\n",
       "<style scoped>\n",
       "    .dataframe tbody tr th:only-of-type {\n",
       "        vertical-align: middle;\n",
       "    }\n",
       "\n",
       "    .dataframe tbody tr th {\n",
       "        vertical-align: top;\n",
       "    }\n",
       "\n",
       "    .dataframe thead tr th {\n",
       "        text-align: left;\n",
       "    }\n",
       "\n",
       "    .dataframe thead tr:last-of-type th {\n",
       "        text-align: right;\n",
       "    }\n",
       "</style>\n",
       "<table border=\"1\" class=\"dataframe\">\n",
       "  <thead>\n",
       "    <tr>\n",
       "      <th></th>\n",
       "      <th></th>\n",
       "      <th colspan=\"3\" halign=\"left\">Survived</th>\n",
       "    </tr>\n",
       "    <tr>\n",
       "      <th></th>\n",
       "      <th></th>\n",
       "      <th>count</th>\n",
       "      <th>mean</th>\n",
       "      <th>std</th>\n",
       "    </tr>\n",
       "    <tr>\n",
       "      <th>Sex</th>\n",
       "      <th>binned_age</th>\n",
       "      <th></th>\n",
       "      <th></th>\n",
       "      <th></th>\n",
       "    </tr>\n",
       "  </thead>\n",
       "  <tbody>\n",
       "    <tr>\n",
       "      <th rowspan=\"10\" valign=\"top\">female</th>\n",
       "      <th>(0.34, 7.052]</th>\n",
       "      <td>24</td>\n",
       "      <td>0.750000</td>\n",
       "      <td>0.442326</td>\n",
       "    </tr>\n",
       "    <tr>\n",
       "      <th>(7.052, 13.683]</th>\n",
       "      <td>10</td>\n",
       "      <td>0.300000</td>\n",
       "      <td>0.483046</td>\n",
       "    </tr>\n",
       "    <tr>\n",
       "      <th>(13.683, 20.315]</th>\n",
       "      <td>43</td>\n",
       "      <td>0.744186</td>\n",
       "      <td>0.441481</td>\n",
       "    </tr>\n",
       "    <tr>\n",
       "      <th>(20.315, 26.947]</th>\n",
       "      <td>50</td>\n",
       "      <td>0.740000</td>\n",
       "      <td>0.443087</td>\n",
       "    </tr>\n",
       "    <tr>\n",
       "      <th>(26.947, 33.578]</th>\n",
       "      <td>49</td>\n",
       "      <td>0.775510</td>\n",
       "      <td>0.421570</td>\n",
       "    </tr>\n",
       "    <tr>\n",
       "      <th>(33.578, 40.21]</th>\n",
       "      <td>37</td>\n",
       "      <td>0.864865</td>\n",
       "      <td>0.346583</td>\n",
       "    </tr>\n",
       "    <tr>\n",
       "      <th>(40.21, 46.842]</th>\n",
       "      <td>18</td>\n",
       "      <td>0.611111</td>\n",
       "      <td>0.501631</td>\n",
       "    </tr>\n",
       "    <tr>\n",
       "      <th>(46.842, 53.473]</th>\n",
       "      <td>17</td>\n",
       "      <td>0.823529</td>\n",
       "      <td>0.392953</td>\n",
       "    </tr>\n",
       "    <tr>\n",
       "      <th>(53.473, 60.105]</th>\n",
       "      <td>10</td>\n",
       "      <td>0.900000</td>\n",
       "      <td>0.316228</td>\n",
       "    </tr>\n",
       "    <tr>\n",
       "      <th>(60.105, 66.737]</th>\n",
       "      <td>3</td>\n",
       "      <td>1.000000</td>\n",
       "      <td>0.000000</td>\n",
       "    </tr>\n",
       "    <tr>\n",
       "      <th rowspan=\"12\" valign=\"top\">male</th>\n",
       "      <th>(0.34, 7.052]</th>\n",
       "      <td>26</td>\n",
       "      <td>0.615385</td>\n",
       "      <td>0.496139</td>\n",
       "    </tr>\n",
       "    <tr>\n",
       "      <th>(7.052, 13.683]</th>\n",
       "      <td>11</td>\n",
       "      <td>0.454545</td>\n",
       "      <td>0.522233</td>\n",
       "    </tr>\n",
       "    <tr>\n",
       "      <th>(13.683, 20.315]</th>\n",
       "      <td>65</td>\n",
       "      <td>0.123077</td>\n",
       "      <td>0.331082</td>\n",
       "    </tr>\n",
       "    <tr>\n",
       "      <th>(20.315, 26.947]</th>\n",
       "      <td>90</td>\n",
       "      <td>0.122222</td>\n",
       "      <td>0.329377</td>\n",
       "    </tr>\n",
       "    <tr>\n",
       "      <th>(26.947, 33.578]</th>\n",
       "      <td>95</td>\n",
       "      <td>0.231579</td>\n",
       "      <td>0.424079</td>\n",
       "    </tr>\n",
       "    <tr>\n",
       "      <th>(33.578, 40.21]</th>\n",
       "      <td>64</td>\n",
       "      <td>0.203125</td>\n",
       "      <td>0.405505</td>\n",
       "    </tr>\n",
       "    <tr>\n",
       "      <th>(40.21, 46.842]</th>\n",
       "      <td>34</td>\n",
       "      <td>0.176471</td>\n",
       "      <td>0.386953</td>\n",
       "    </tr>\n",
       "    <tr>\n",
       "      <th>(46.842, 53.473]</th>\n",
       "      <td>31</td>\n",
       "      <td>0.258065</td>\n",
       "      <td>0.444803</td>\n",
       "    </tr>\n",
       "    <tr>\n",
       "      <th>(53.473, 60.105]</th>\n",
       "      <td>18</td>\n",
       "      <td>0.111111</td>\n",
       "      <td>0.323381</td>\n",
       "    </tr>\n",
       "    <tr>\n",
       "      <th>(60.105, 66.737]</th>\n",
       "      <td>12</td>\n",
       "      <td>0.083333</td>\n",
       "      <td>0.288675</td>\n",
       "    </tr>\n",
       "    <tr>\n",
       "      <th>(66.737, 73.368]</th>\n",
       "      <td>5</td>\n",
       "      <td>0.000000</td>\n",
       "      <td>0.000000</td>\n",
       "    </tr>\n",
       "    <tr>\n",
       "      <th>(73.368, 80.0]</th>\n",
       "      <td>2</td>\n",
       "      <td>0.500000</td>\n",
       "      <td>0.707107</td>\n",
       "    </tr>\n",
       "  </tbody>\n",
       "</table>\n",
       "</div>"
      ],
      "text/plain": [
       "                        Survived                    \n",
       "                           count      mean       std\n",
       "Sex    binned_age                                   \n",
       "female (0.34, 7.052]          24  0.750000  0.442326\n",
       "       (7.052, 13.683]        10  0.300000  0.483046\n",
       "       (13.683, 20.315]       43  0.744186  0.441481\n",
       "       (20.315, 26.947]       50  0.740000  0.443087\n",
       "       (26.947, 33.578]       49  0.775510  0.421570\n",
       "       (33.578, 40.21]        37  0.864865  0.346583\n",
       "       (40.21, 46.842]        18  0.611111  0.501631\n",
       "       (46.842, 53.473]       17  0.823529  0.392953\n",
       "       (53.473, 60.105]       10  0.900000  0.316228\n",
       "       (60.105, 66.737]        3  1.000000  0.000000\n",
       "male   (0.34, 7.052]          26  0.615385  0.496139\n",
       "       (7.052, 13.683]        11  0.454545  0.522233\n",
       "       (13.683, 20.315]       65  0.123077  0.331082\n",
       "       (20.315, 26.947]       90  0.122222  0.329377\n",
       "       (26.947, 33.578]       95  0.231579  0.424079\n",
       "       (33.578, 40.21]        64  0.203125  0.405505\n",
       "       (40.21, 46.842]        34  0.176471  0.386953\n",
       "       (46.842, 53.473]       31  0.258065  0.444803\n",
       "       (53.473, 60.105]       18  0.111111  0.323381\n",
       "       (60.105, 66.737]       12  0.083333  0.288675\n",
       "       (66.737, 73.368]        5  0.000000  0.000000\n",
       "       (73.368, 80.0]          2  0.500000  0.707107"
      ]
     },
     "execution_count": 25,
     "metadata": {},
     "output_type": "execute_result"
    }
   ],
   "source": [
    "binned_age = train_data[[\"Age\", \"Sex\", \"Survived\"]]\n",
    "binned_age[\"binned_age\"] = pd.cut(binned_age['Age'], 12)\n",
    "binned_age.groupby([\"Sex\", \"binned_age\"]).agg({\"Survived\": [\"count\", \"mean\", \"std\"]})"
   ]
  },
  {
   "cell_type": "code",
   "execution_count": 26,
   "metadata": {},
   "outputs": [
    {
     "data": {
      "text/plain": [
       "Sex\n",
       "female    0.593750\n",
       "male      0.567568\n",
       "Name: Survived, dtype: float64"
      ]
     },
     "execution_count": 26,
     "metadata": {},
     "output_type": "execute_result"
    }
   ],
   "source": [
    "u12_data = train_data[train_data[\"Age\"] <= 12]\n",
    "u12_data.groupby([\"Sex\"])[\"Survived\"].mean()"
   ]
  },
  {
   "cell_type": "markdown",
   "metadata": {},
   "source": [
    "### TitleからAgeはある程度推測できそう"
   ]
  },
  {
   "cell_type": "code",
   "execution_count": 27,
   "metadata": {},
   "outputs": [
    {
     "data": {
      "text/html": [
       "<div>\n",
       "<style scoped>\n",
       "    .dataframe tbody tr th:only-of-type {\n",
       "        vertical-align: middle;\n",
       "    }\n",
       "\n",
       "    .dataframe tbody tr th {\n",
       "        vertical-align: top;\n",
       "    }\n",
       "\n",
       "    .dataframe thead tr th {\n",
       "        text-align: left;\n",
       "    }\n",
       "\n",
       "    .dataframe thead tr:last-of-type th {\n",
       "        text-align: right;\n",
       "    }\n",
       "</style>\n",
       "<table border=\"1\" class=\"dataframe\">\n",
       "  <thead>\n",
       "    <tr>\n",
       "      <th></th>\n",
       "      <th colspan=\"2\" halign=\"left\">Age</th>\n",
       "    </tr>\n",
       "    <tr>\n",
       "      <th></th>\n",
       "      <th>mean</th>\n",
       "      <th>std</th>\n",
       "    </tr>\n",
       "    <tr>\n",
       "      <th>Title</th>\n",
       "      <th></th>\n",
       "      <th></th>\n",
       "    </tr>\n",
       "  </thead>\n",
       "  <tbody>\n",
       "    <tr>\n",
       "      <th>Master</th>\n",
       "      <td>4.574167</td>\n",
       "      <td>3.619872</td>\n",
       "    </tr>\n",
       "    <tr>\n",
       "      <th>Miss</th>\n",
       "      <td>21.845638</td>\n",
       "      <td>12.870542</td>\n",
       "    </tr>\n",
       "    <tr>\n",
       "      <th>Mr</th>\n",
       "      <td>32.368090</td>\n",
       "      <td>12.708793</td>\n",
       "    </tr>\n",
       "    <tr>\n",
       "      <th>Mrs</th>\n",
       "      <td>35.788991</td>\n",
       "      <td>11.437490</td>\n",
       "    </tr>\n",
       "    <tr>\n",
       "      <th>Rare</th>\n",
       "      <td>45.545455</td>\n",
       "      <td>11.782664</td>\n",
       "    </tr>\n",
       "  </tbody>\n",
       "</table>\n",
       "</div>"
      ],
      "text/plain": [
       "              Age           \n",
       "             mean        std\n",
       "Title                       \n",
       "Master   4.574167   3.619872\n",
       "Miss    21.845638  12.870542\n",
       "Mr      32.368090  12.708793\n",
       "Mrs     35.788991  11.437490\n",
       "Rare    45.545455  11.782664"
      ]
     },
     "execution_count": 27,
     "metadata": {},
     "output_type": "execute_result"
    }
   ],
   "source": [
    "train_data.groupby(\"Title\").agg({\"Age\":[\"mean\", \"std\"]})"
   ]
  },
  {
   "cell_type": "markdown",
   "metadata": {},
   "source": [
    "### Pclassはグレードが高い方が生存率が高い\n",
    "* 女性でもクラス3は生存率が半分程度まで下がる（クラス1,2はほとんど差がない）\n",
    "* 男性は、クラス1では生存率が比較的高くなる"
   ]
  },
  {
   "cell_type": "code",
   "execution_count": 28,
   "metadata": {},
   "outputs": [
    {
     "data": {
      "text/html": [
       "<div>\n",
       "<style scoped>\n",
       "    .dataframe tbody tr th:only-of-type {\n",
       "        vertical-align: middle;\n",
       "    }\n",
       "\n",
       "    .dataframe tbody tr th {\n",
       "        vertical-align: top;\n",
       "    }\n",
       "\n",
       "    .dataframe thead tr th {\n",
       "        text-align: left;\n",
       "    }\n",
       "\n",
       "    .dataframe thead tr:last-of-type th {\n",
       "        text-align: right;\n",
       "    }\n",
       "</style>\n",
       "<table border=\"1\" class=\"dataframe\">\n",
       "  <thead>\n",
       "    <tr>\n",
       "      <th></th>\n",
       "      <th></th>\n",
       "      <th colspan=\"3\" halign=\"left\">Survived</th>\n",
       "    </tr>\n",
       "    <tr>\n",
       "      <th></th>\n",
       "      <th></th>\n",
       "      <th>count</th>\n",
       "      <th>mean</th>\n",
       "      <th>std</th>\n",
       "    </tr>\n",
       "    <tr>\n",
       "      <th>Sex</th>\n",
       "      <th>Pclass</th>\n",
       "      <th></th>\n",
       "      <th></th>\n",
       "      <th></th>\n",
       "    </tr>\n",
       "  </thead>\n",
       "  <tbody>\n",
       "    <tr>\n",
       "      <th rowspan=\"3\" valign=\"top\">female</th>\n",
       "      <th>1</th>\n",
       "      <td>94</td>\n",
       "      <td>0.968085</td>\n",
       "      <td>0.176716</td>\n",
       "    </tr>\n",
       "    <tr>\n",
       "      <th>2</th>\n",
       "      <td>76</td>\n",
       "      <td>0.921053</td>\n",
       "      <td>0.271448</td>\n",
       "    </tr>\n",
       "    <tr>\n",
       "      <th>3</th>\n",
       "      <td>144</td>\n",
       "      <td>0.500000</td>\n",
       "      <td>0.501745</td>\n",
       "    </tr>\n",
       "    <tr>\n",
       "      <th rowspan=\"3\" valign=\"top\">male</th>\n",
       "      <th>1</th>\n",
       "      <td>122</td>\n",
       "      <td>0.368852</td>\n",
       "      <td>0.484484</td>\n",
       "    </tr>\n",
       "    <tr>\n",
       "      <th>2</th>\n",
       "      <td>108</td>\n",
       "      <td>0.157407</td>\n",
       "      <td>0.365882</td>\n",
       "    </tr>\n",
       "    <tr>\n",
       "      <th>3</th>\n",
       "      <td>347</td>\n",
       "      <td>0.135447</td>\n",
       "      <td>0.342694</td>\n",
       "    </tr>\n",
       "  </tbody>\n",
       "</table>\n",
       "</div>"
      ],
      "text/plain": [
       "              Survived                    \n",
       "                 count      mean       std\n",
       "Sex    Pclass                             \n",
       "female 1            94  0.968085  0.176716\n",
       "       2            76  0.921053  0.271448\n",
       "       3           144  0.500000  0.501745\n",
       "male   1           122  0.368852  0.484484\n",
       "       2           108  0.157407  0.365882\n",
       "       3           347  0.135447  0.342694"
      ]
     },
     "execution_count": 28,
     "metadata": {},
     "output_type": "execute_result"
    }
   ],
   "source": [
    "train_data.groupby([\"Sex\", \"Pclass\"]).agg({\"Survived\": [\"count\", \"mean\", \"std\"]})"
   ]
  },
  {
   "cell_type": "code",
   "execution_count": 29,
   "metadata": {},
   "outputs": [
    {
     "data": {
      "text/plain": [
       "<seaborn.axisgrid.FacetGrid at 0x21d3d8e7e48>"
      ]
     },
     "execution_count": 29,
     "metadata": {},
     "output_type": "execute_result"
    },
    {
     "data": {
      "image/png": "[encoded data removed]",
      "text/plain": [
       "<matplotlib.figure.Figure at 0x21d3d2e9400>"
      ]
     },
     "metadata": {},
     "output_type": "display_data"
    }
   ],
   "source": [
    "h = sns.FacetGrid(train_data, row = \"Sex\", col = \"Pclass\", hue = \"Survived\")\n",
    "h.map(plt.hist, \"Age\", alpha = .75)\n",
    "h.add_legend()"
   ]
  },
  {
   "cell_type": "markdown",
   "metadata": {},
   "source": [
    "### Fareに比例して、多少生存率も高まる（Pclassと関連）"
   ]
  },
  {
   "cell_type": "code",
   "execution_count": 30,
   "metadata": {},
   "outputs": [
    {
     "data": {
      "text/plain": [
       "<seaborn.axisgrid.FacetGrid at 0x21d3d6b2860>"
      ]
     },
     "execution_count": 30,
     "metadata": {},
     "output_type": "execute_result"
    },
    {
     "data": {
      "image/png": "[encoded data removed]",
      "text/plain": [
       "<matplotlib.figure.Figure at 0x21d3dac0be0>"
      ]
     },
     "metadata": {},
     "output_type": "display_data"
    }
   ],
   "source": [
    "a = sns.FacetGrid(train_data, row = \"Sex\", hue = 'Survived', aspect=4 )\n",
    "a.map(sns.kdeplot, 'Fare', shade= True )\n",
    "a.set(xlim=(0 , train_data['Fare'].max()))\n",
    "a.add_legend()"
   ]
  },
  {
   "cell_type": "code",
   "execution_count": 31,
   "metadata": {},
   "outputs": [
    {
     "name": "stderr",
     "output_type": "stream",
     "text": [
      "C:\\Users\\tomiyou\\Anaconda3\\lib\\site-packages\\ipykernel_launcher.py:3: SettingWithCopyWarning: \n",
      "A value is trying to be set on a copy of a slice from a DataFrame.\n",
      "Try using .loc[row_indexer,col_indexer] = value instead\n",
      "\n",
      "See the caveats in the documentation: http://pandas.pydata.org/pandas-docs/stable/indexing.html#indexing-view-versus-copy\n",
      "  This is separate from the ipykernel package so we can avoid doing imports until\n"
     ]
    },
    {
     "data": {
      "text/html": [
       "<div>\n",
       "<style scoped>\n",
       "    .dataframe tbody tr th:only-of-type {\n",
       "        vertical-align: middle;\n",
       "    }\n",
       "\n",
       "    .dataframe tbody tr th {\n",
       "        vertical-align: top;\n",
       "    }\n",
       "\n",
       "    .dataframe thead tr th {\n",
       "        text-align: left;\n",
       "    }\n",
       "\n",
       "    .dataframe thead tr:last-of-type th {\n",
       "        text-align: right;\n",
       "    }\n",
       "</style>\n",
       "<table border=\"1\" class=\"dataframe\">\n",
       "  <thead>\n",
       "    <tr>\n",
       "      <th></th>\n",
       "      <th></th>\n",
       "      <th colspan=\"3\" halign=\"left\">Survived</th>\n",
       "      <th colspan=\"3\" halign=\"left\">Pclass</th>\n",
       "    </tr>\n",
       "    <tr>\n",
       "      <th></th>\n",
       "      <th></th>\n",
       "      <th>count</th>\n",
       "      <th>mean</th>\n",
       "      <th>std</th>\n",
       "      <th>count</th>\n",
       "      <th>mean</th>\n",
       "      <th>std</th>\n",
       "    </tr>\n",
       "    <tr>\n",
       "      <th>Sex</th>\n",
       "      <th>binned_fare</th>\n",
       "      <th></th>\n",
       "      <th></th>\n",
       "      <th></th>\n",
       "      <th></th>\n",
       "      <th></th>\n",
       "      <th></th>\n",
       "    </tr>\n",
       "  </thead>\n",
       "  <tbody>\n",
       "    <tr>\n",
       "      <th rowspan=\"22\" valign=\"top\">female</th>\n",
       "      <th>(-0.512, 8.539]</th>\n",
       "      <td>52</td>\n",
       "      <td>0.653846</td>\n",
       "      <td>0.480384</td>\n",
       "      <td>52</td>\n",
       "      <td>3.000000</td>\n",
       "      <td>0.000000</td>\n",
       "    </tr>\n",
       "    <tr>\n",
       "      <th>(8.539, 17.078]</th>\n",
       "      <td>79</td>\n",
       "      <td>0.670886</td>\n",
       "      <td>0.472894</td>\n",
       "      <td>79</td>\n",
       "      <td>2.594937</td>\n",
       "      <td>0.494041</td>\n",
       "    </tr>\n",
       "    <tr>\n",
       "      <th>(17.078, 25.616]</th>\n",
       "      <td>36</td>\n",
       "      <td>0.611111</td>\n",
       "      <td>0.494413</td>\n",
       "      <td>36</td>\n",
       "      <td>2.694444</td>\n",
       "      <td>0.467177</td>\n",
       "    </tr>\n",
       "    <tr>\n",
       "      <th>(25.616, 34.155]</th>\n",
       "      <td>46</td>\n",
       "      <td>0.739130</td>\n",
       "      <td>0.443961</td>\n",
       "      <td>46</td>\n",
       "      <td>2.065217</td>\n",
       "      <td>0.646432</td>\n",
       "    </tr>\n",
       "    <tr>\n",
       "      <th>(34.155, 42.694]</th>\n",
       "      <td>10</td>\n",
       "      <td>0.600000</td>\n",
       "      <td>0.516398</td>\n",
       "      <td>10</td>\n",
       "      <td>2.200000</td>\n",
       "      <td>0.788811</td>\n",
       "    </tr>\n",
       "    <tr>\n",
       "      <th>(42.694, 51.233]</th>\n",
       "      <td>4</td>\n",
       "      <td>0.500000</td>\n",
       "      <td>0.577350</td>\n",
       "      <td>4</td>\n",
       "      <td>2.000000</td>\n",
       "      <td>1.154701</td>\n",
       "    </tr>\n",
       "    <tr>\n",
       "      <th>(51.233, 59.772]</th>\n",
       "      <td>15</td>\n",
       "      <td>1.000000</td>\n",
       "      <td>0.000000</td>\n",
       "      <td>15</td>\n",
       "      <td>1.000000</td>\n",
       "      <td>0.000000</td>\n",
       "    </tr>\n",
       "    <tr>\n",
       "      <th>(59.772, 68.311]</th>\n",
       "      <td>3</td>\n",
       "      <td>1.000000</td>\n",
       "      <td>0.000000</td>\n",
       "      <td>3</td>\n",
       "      <td>1.666667</td>\n",
       "      <td>0.577350</td>\n",
       "    </tr>\n",
       "    <tr>\n",
       "      <th>(68.311, 76.849]</th>\n",
       "      <td>10</td>\n",
       "      <td>0.700000</td>\n",
       "      <td>0.483046</td>\n",
       "      <td>10</td>\n",
       "      <td>1.600000</td>\n",
       "      <td>0.966092</td>\n",
       "    </tr>\n",
       "    <tr>\n",
       "      <th>(76.849, 85.388]</th>\n",
       "      <td>16</td>\n",
       "      <td>1.000000</td>\n",
       "      <td>0.000000</td>\n",
       "      <td>16</td>\n",
       "      <td>1.000000</td>\n",
       "      <td>0.000000</td>\n",
       "    </tr>\n",
       "    <tr>\n",
       "      <th>(85.388, 93.927]</th>\n",
       "      <td>9</td>\n",
       "      <td>1.000000</td>\n",
       "      <td>0.000000</td>\n",
       "      <td>9</td>\n",
       "      <td>1.000000</td>\n",
       "      <td>0.000000</td>\n",
       "    </tr>\n",
       "    <tr>\n",
       "      <th>(102.466, 111.005]</th>\n",
       "      <td>4</td>\n",
       "      <td>1.000000</td>\n",
       "      <td>0.000000</td>\n",
       "      <td>4</td>\n",
       "      <td>1.000000</td>\n",
       "      <td>0.000000</td>\n",
       "    </tr>\n",
       "    <tr>\n",
       "      <th>(111.005, 119.543]</th>\n",
       "      <td>2</td>\n",
       "      <td>1.000000</td>\n",
       "      <td>0.000000</td>\n",
       "      <td>2</td>\n",
       "      <td>1.000000</td>\n",
       "      <td>0.000000</td>\n",
       "    </tr>\n",
       "    <tr>\n",
       "      <th>(119.543, 128.082]</th>\n",
       "      <td>2</td>\n",
       "      <td>1.000000</td>\n",
       "      <td>0.000000</td>\n",
       "      <td>2</td>\n",
       "      <td>1.000000</td>\n",
       "      <td>0.000000</td>\n",
       "    </tr>\n",
       "    <tr>\n",
       "      <th>(128.082, 136.621]</th>\n",
       "      <td>5</td>\n",
       "      <td>1.000000</td>\n",
       "      <td>0.000000</td>\n",
       "      <td>5</td>\n",
       "      <td>1.000000</td>\n",
       "      <td>0.000000</td>\n",
       "    </tr>\n",
       "    <tr>\n",
       "      <th>(145.16, 153.699]</th>\n",
       "      <td>7</td>\n",
       "      <td>0.714286</td>\n",
       "      <td>0.487950</td>\n",
       "      <td>7</td>\n",
       "      <td>1.000000</td>\n",
       "      <td>0.000000</td>\n",
       "    </tr>\n",
       "    <tr>\n",
       "      <th>(162.238, 170.776]</th>\n",
       "      <td>2</td>\n",
       "      <td>1.000000</td>\n",
       "      <td>0.000000</td>\n",
       "      <td>2</td>\n",
       "      <td>1.000000</td>\n",
       "      <td>0.000000</td>\n",
       "    </tr>\n",
       "    <tr>\n",
       "      <th>(204.932, 213.47]</th>\n",
       "      <td>3</td>\n",
       "      <td>1.000000</td>\n",
       "      <td>0.000000</td>\n",
       "      <td>3</td>\n",
       "      <td>1.000000</td>\n",
       "      <td>0.000000</td>\n",
       "    </tr>\n",
       "    <tr>\n",
       "      <th>(222.009, 230.548]</th>\n",
       "      <td>3</td>\n",
       "      <td>1.000000</td>\n",
       "      <td>0.000000</td>\n",
       "      <td>3</td>\n",
       "      <td>1.000000</td>\n",
       "      <td>0.000000</td>\n",
       "    </tr>\n",
       "    <tr>\n",
       "      <th>(239.087, 247.626]</th>\n",
       "      <td>1</td>\n",
       "      <td>1.000000</td>\n",
       "      <td>NaN</td>\n",
       "      <td>1</td>\n",
       "      <td>1.000000</td>\n",
       "      <td>NaN</td>\n",
       "    </tr>\n",
       "    <tr>\n",
       "      <th>(256.165, 264.703]</th>\n",
       "      <td>4</td>\n",
       "      <td>1.000000</td>\n",
       "      <td>0.000000</td>\n",
       "      <td>4</td>\n",
       "      <td>1.000000</td>\n",
       "      <td>0.000000</td>\n",
       "    </tr>\n",
       "    <tr>\n",
       "      <th>(503.79, 512.329]</th>\n",
       "      <td>1</td>\n",
       "      <td>1.000000</td>\n",
       "      <td>NaN</td>\n",
       "      <td>1</td>\n",
       "      <td>1.000000</td>\n",
       "      <td>NaN</td>\n",
       "    </tr>\n",
       "    <tr>\n",
       "      <th rowspan=\"22\" valign=\"top\">male</th>\n",
       "      <th>(-0.512, 8.539]</th>\n",
       "      <td>242</td>\n",
       "      <td>0.107438</td>\n",
       "      <td>0.310311</td>\n",
       "      <td>242</td>\n",
       "      <td>2.925620</td>\n",
       "      <td>0.344856</td>\n",
       "    </tr>\n",
       "    <tr>\n",
       "      <th>(8.539, 17.078]</th>\n",
       "      <td>123</td>\n",
       "      <td>0.154472</td>\n",
       "      <td>0.362878</td>\n",
       "      <td>123</td>\n",
       "      <td>2.504065</td>\n",
       "      <td>0.502028</td>\n",
       "    </tr>\n",
       "    <tr>\n",
       "      <th>(17.078, 25.616]</th>\n",
       "      <td>30</td>\n",
       "      <td>0.200000</td>\n",
       "      <td>0.406838</td>\n",
       "      <td>30</td>\n",
       "      <td>2.733333</td>\n",
       "      <td>0.520830</td>\n",
       "    </tr>\n",
       "    <tr>\n",
       "      <th>(25.616, 34.155]</th>\n",
       "      <td>79</td>\n",
       "      <td>0.316456</td>\n",
       "      <td>0.468065</td>\n",
       "      <td>79</td>\n",
       "      <td>1.569620</td>\n",
       "      <td>0.728249</td>\n",
       "    </tr>\n",
       "    <tr>\n",
       "      <th>(34.155, 42.694]</th>\n",
       "      <td>23</td>\n",
       "      <td>0.260870</td>\n",
       "      <td>0.448978</td>\n",
       "      <td>23</td>\n",
       "      <td>1.826087</td>\n",
       "      <td>0.834058</td>\n",
       "    </tr>\n",
       "    <tr>\n",
       "      <th>(42.694, 51.233]</th>\n",
       "      <td>8</td>\n",
       "      <td>0.000000</td>\n",
       "      <td>0.000000</td>\n",
       "      <td>8</td>\n",
       "      <td>2.000000</td>\n",
       "      <td>1.069045</td>\n",
       "    </tr>\n",
       "    <tr>\n",
       "      <th>(51.233, 59.772]</th>\n",
       "      <td>22</td>\n",
       "      <td>0.545455</td>\n",
       "      <td>0.509647</td>\n",
       "      <td>22</td>\n",
       "      <td>1.636364</td>\n",
       "      <td>0.953463</td>\n",
       "    </tr>\n",
       "    <tr>\n",
       "      <th>(59.772, 68.311]</th>\n",
       "      <td>5</td>\n",
       "      <td>0.200000</td>\n",
       "      <td>0.447214</td>\n",
       "      <td>5</td>\n",
       "      <td>1.000000</td>\n",
       "      <td>0.000000</td>\n",
       "    </tr>\n",
       "    <tr>\n",
       "      <th>(68.311, 76.849]</th>\n",
       "      <td>12</td>\n",
       "      <td>0.166667</td>\n",
       "      <td>0.389249</td>\n",
       "      <td>12</td>\n",
       "      <td>2.083333</td>\n",
       "      <td>0.792961</td>\n",
       "    </tr>\n",
       "    <tr>\n",
       "      <th>(76.849, 85.388]</th>\n",
       "      <td>10</td>\n",
       "      <td>0.200000</td>\n",
       "      <td>0.421637</td>\n",
       "      <td>10</td>\n",
       "      <td>1.000000</td>\n",
       "      <td>0.000000</td>\n",
       "    </tr>\n",
       "    <tr>\n",
       "      <th>(85.388, 93.927]</th>\n",
       "      <td>4</td>\n",
       "      <td>0.750000</td>\n",
       "      <td>0.500000</td>\n",
       "      <td>4</td>\n",
       "      <td>1.000000</td>\n",
       "      <td>0.000000</td>\n",
       "    </tr>\n",
       "    <tr>\n",
       "      <th>(102.466, 111.005]</th>\n",
       "      <td>4</td>\n",
       "      <td>0.250000</td>\n",
       "      <td>0.500000</td>\n",
       "      <td>4</td>\n",
       "      <td>1.000000</td>\n",
       "      <td>0.000000</td>\n",
       "    </tr>\n",
       "    <tr>\n",
       "      <th>(111.005, 119.543]</th>\n",
       "      <td>1</td>\n",
       "      <td>0.000000</td>\n",
       "      <td>NaN</td>\n",
       "      <td>1</td>\n",
       "      <td>1.000000</td>\n",
       "      <td>NaN</td>\n",
       "    </tr>\n",
       "    <tr>\n",
       "      <th>(119.543, 128.082]</th>\n",
       "      <td>2</td>\n",
       "      <td>1.000000</td>\n",
       "      <td>0.000000</td>\n",
       "      <td>2</td>\n",
       "      <td>1.000000</td>\n",
       "      <td>0.000000</td>\n",
       "    </tr>\n",
       "    <tr>\n",
       "      <th>(128.082, 136.621]</th>\n",
       "      <td>2</td>\n",
       "      <td>0.500000</td>\n",
       "      <td>0.707107</td>\n",
       "      <td>2</td>\n",
       "      <td>1.000000</td>\n",
       "      <td>0.000000</td>\n",
       "    </tr>\n",
       "    <tr>\n",
       "      <th>(145.16, 153.699]</th>\n",
       "      <td>2</td>\n",
       "      <td>0.500000</td>\n",
       "      <td>0.707107</td>\n",
       "      <td>2</td>\n",
       "      <td>1.000000</td>\n",
       "      <td>0.000000</td>\n",
       "    </tr>\n",
       "    <tr>\n",
       "      <th>(204.932, 213.47]</th>\n",
       "      <td>1</td>\n",
       "      <td>0.000000</td>\n",
       "      <td>NaN</td>\n",
       "      <td>1</td>\n",
       "      <td>1.000000</td>\n",
       "      <td>NaN</td>\n",
       "    </tr>\n",
       "    <tr>\n",
       "      <th>(213.47, 222.009]</th>\n",
       "      <td>1</td>\n",
       "      <td>0.000000</td>\n",
       "      <td>NaN</td>\n",
       "      <td>1</td>\n",
       "      <td>1.000000</td>\n",
       "      <td>NaN</td>\n",
       "    </tr>\n",
       "    <tr>\n",
       "      <th>(222.009, 230.548]</th>\n",
       "      <td>1</td>\n",
       "      <td>0.000000</td>\n",
       "      <td>NaN</td>\n",
       "      <td>1</td>\n",
       "      <td>1.000000</td>\n",
       "      <td>NaN</td>\n",
       "    </tr>\n",
       "    <tr>\n",
       "      <th>(239.087, 247.626]</th>\n",
       "      <td>1</td>\n",
       "      <td>0.000000</td>\n",
       "      <td>NaN</td>\n",
       "      <td>1</td>\n",
       "      <td>1.000000</td>\n",
       "      <td>NaN</td>\n",
       "    </tr>\n",
       "    <tr>\n",
       "      <th>(256.165, 264.703]</th>\n",
       "      <td>2</td>\n",
       "      <td>0.000000</td>\n",
       "      <td>0.000000</td>\n",
       "      <td>2</td>\n",
       "      <td>1.000000</td>\n",
       "      <td>0.000000</td>\n",
       "    </tr>\n",
       "    <tr>\n",
       "      <th>(503.79, 512.329]</th>\n",
       "      <td>2</td>\n",
       "      <td>1.000000</td>\n",
       "      <td>0.000000</td>\n",
       "      <td>2</td>\n",
       "      <td>1.000000</td>\n",
       "      <td>0.000000</td>\n",
       "    </tr>\n",
       "  </tbody>\n",
       "</table>\n",
       "</div>"
      ],
      "text/plain": [
       "                          Survived                     Pclass            \\\n",
       "                             count      mean       std  count      mean   \n",
       "Sex    binned_fare                                                        \n",
       "female (-0.512, 8.539]          52  0.653846  0.480384     52  3.000000   \n",
       "       (8.539, 17.078]          79  0.670886  0.472894     79  2.594937   \n",
       "       (17.078, 25.616]         36  0.611111  0.494413     36  2.694444   \n",
       "       (25.616, 34.155]         46  0.739130  0.443961     46  2.065217   \n",
       "       (34.155, 42.694]         10  0.600000  0.516398     10  2.200000   \n",
       "       (42.694, 51.233]          4  0.500000  0.577350      4  2.000000   \n",
       "       (51.233, 59.772]         15  1.000000  0.000000     15  1.000000   \n",
       "       (59.772, 68.311]          3  1.000000  0.000000      3  1.666667   \n",
       "       (68.311, 76.849]         10  0.700000  0.483046     10  1.600000   \n",
       "       (76.849, 85.388]         16  1.000000  0.000000     16  1.000000   \n",
       "       (85.388, 93.927]          9  1.000000  0.000000      9  1.000000   \n",
       "       (102.466, 111.005]        4  1.000000  0.000000      4  1.000000   \n",
       "       (111.005, 119.543]        2  1.000000  0.000000      2  1.000000   \n",
       "       (119.543, 128.082]        2  1.000000  0.000000      2  1.000000   \n",
       "       (128.082, 136.621]        5  1.000000  0.000000      5  1.000000   \n",
       "       (145.16, 153.699]         7  0.714286  0.487950      7  1.000000   \n",
       "       (162.238, 170.776]        2  1.000000  0.000000      2  1.000000   \n",
       "       (204.932, 213.47]         3  1.000000  0.000000      3  1.000000   \n",
       "       (222.009, 230.548]        3  1.000000  0.000000      3  1.000000   \n",
       "       (239.087, 247.626]        1  1.000000       NaN      1  1.000000   \n",
       "       (256.165, 264.703]        4  1.000000  0.000000      4  1.000000   \n",
       "       (503.79, 512.329]         1  1.000000       NaN      1  1.000000   \n",
       "male   (-0.512, 8.539]         242  0.107438  0.310311    242  2.925620   \n",
       "       (8.539, 17.078]         123  0.154472  0.362878    123  2.504065   \n",
       "       (17.078, 25.616]         30  0.200000  0.406838     30  2.733333   \n",
       "       (25.616, 34.155]         79  0.316456  0.468065     79  1.569620   \n",
       "       (34.155, 42.694]         23  0.260870  0.448978     23  1.826087   \n",
       "       (42.694, 51.233]          8  0.000000  0.000000      8  2.000000   \n",
       "       (51.233, 59.772]         22  0.545455  0.509647     22  1.636364   \n",
       "       (59.772, 68.311]          5  0.200000  0.447214      5  1.000000   \n",
       "       (68.311, 76.849]         12  0.166667  0.389249     12  2.083333   \n",
       "       (76.849, 85.388]         10  0.200000  0.421637     10  1.000000   \n",
       "       (85.388, 93.927]          4  0.750000  0.500000      4  1.000000   \n",
       "       (102.466, 111.005]        4  0.250000  0.500000      4  1.000000   \n",
       "       (111.005, 119.543]        1  0.000000       NaN      1  1.000000   \n",
       "       (119.543, 128.082]        2  1.000000  0.000000      2  1.000000   \n",
       "       (128.082, 136.621]        2  0.500000  0.707107      2  1.000000   \n",
       "       (145.16, 153.699]         2  0.500000  0.707107      2  1.000000   \n",
       "       (204.932, 213.47]         1  0.000000       NaN      1  1.000000   \n",
       "       (213.47, 222.009]         1  0.000000       NaN      1  1.000000   \n",
       "       (222.009, 230.548]        1  0.000000       NaN      1  1.000000   \n",
       "       (239.087, 247.626]        1  0.000000       NaN      1  1.000000   \n",
       "       (256.165, 264.703]        2  0.000000  0.000000      2  1.000000   \n",
       "       (503.79, 512.329]         2  1.000000  0.000000      2  1.000000   \n",
       "\n",
       "                                     \n",
       "                                std  \n",
       "Sex    binned_fare                   \n",
       "female (-0.512, 8.539]     0.000000  \n",
       "       (8.539, 17.078]     0.494041  \n",
       "       (17.078, 25.616]    0.467177  \n",
       "       (25.616, 34.155]    0.646432  \n",
       "       (34.155, 42.694]    0.788811  \n",
       "       (42.694, 51.233]    1.154701  \n",
       "       (51.233, 59.772]    0.000000  \n",
       "       (59.772, 68.311]    0.577350  \n",
       "       (68.311, 76.849]    0.966092  \n",
       "       (76.849, 85.388]    0.000000  \n",
       "       (85.388, 93.927]    0.000000  \n",
       "       (102.466, 111.005]  0.000000  \n",
       "       (111.005, 119.543]  0.000000  \n",
       "       (119.543, 128.082]  0.000000  \n",
       "       (128.082, 136.621]  0.000000  \n",
       "       (145.16, 153.699]   0.000000  \n",
       "       (162.238, 170.776]  0.000000  \n",
       "       (204.932, 213.47]   0.000000  \n",
       "       (222.009, 230.548]  0.000000  \n",
       "       (239.087, 247.626]       NaN  \n",
       "       (256.165, 264.703]  0.000000  \n",
       "       (503.79, 512.329]        NaN  \n",
       "male   (-0.512, 8.539]     0.344856  \n",
       "       (8.539, 17.078]     0.502028  \n",
       "       (17.078, 25.616]    0.520830  \n",
       "       (25.616, 34.155]    0.728249  \n",
       "       (34.155, 42.694]    0.834058  \n",
       "       (42.694, 51.233]    1.069045  \n",
       "       (51.233, 59.772]    0.953463  \n",
       "       (59.772, 68.311]    0.000000  \n",
       "       (68.311, 76.849]    0.792961  \n",
       "       (76.849, 85.388]    0.000000  \n",
       "       (85.388, 93.927]    0.000000  \n",
       "       (102.466, 111.005]  0.000000  \n",
       "       (111.005, 119.543]       NaN  \n",
       "       (119.543, 128.082]  0.000000  \n",
       "       (128.082, 136.621]  0.000000  \n",
       "       (145.16, 153.699]   0.000000  \n",
       "       (204.932, 213.47]        NaN  \n",
       "       (213.47, 222.009]        NaN  \n",
       "       (222.009, 230.548]       NaN  \n",
       "       (239.087, 247.626]       NaN  \n",
       "       (256.165, 264.703]  0.000000  \n",
       "       (503.79, 512.329]   0.000000  "
      ]
     },
     "execution_count": 31,
     "metadata": {},
     "output_type": "execute_result"
    }
   ],
   "source": [
    "#pd.crosstab(pd.qcut(train_data[\"Fare\"], 20), train_data[\"Survived\"])\n",
    "binned_fare = train_data[[\"Fare\", \"Sex\", \"Survived\", \"Pclass\"]]\n",
    "binned_fare[\"binned_fare\"] = pd.cut(binned_fare['Fare'], 60)\n",
    "binned_fare.groupby([\"Sex\", \"binned_fare\"]).agg({\"Survived\": [\"count\", \"mean\", \"std\"],\n",
    "                                                 \"Pclass\": [\"count\", \"mean\", \"std\"]})"
   ]
  },
  {
   "cell_type": "code",
   "execution_count": 32,
   "metadata": {},
   "outputs": [
    {
     "data": {
      "text/html": [
       "<div>\n",
       "<style scoped>\n",
       "    .dataframe tbody tr th:only-of-type {\n",
       "        vertical-align: middle;\n",
       "    }\n",
       "\n",
       "    .dataframe tbody tr th {\n",
       "        vertical-align: top;\n",
       "    }\n",
       "\n",
       "    .dataframe thead tr th {\n",
       "        text-align: left;\n",
       "    }\n",
       "\n",
       "    .dataframe thead tr:last-of-type th {\n",
       "        text-align: right;\n",
       "    }\n",
       "</style>\n",
       "<table border=\"1\" class=\"dataframe\">\n",
       "  <thead>\n",
       "    <tr>\n",
       "      <th></th>\n",
       "      <th colspan=\"2\" halign=\"left\">Fare</th>\n",
       "    </tr>\n",
       "    <tr>\n",
       "      <th></th>\n",
       "      <th>mean</th>\n",
       "      <th>std</th>\n",
       "    </tr>\n",
       "    <tr>\n",
       "      <th>Pclass</th>\n",
       "      <th></th>\n",
       "      <th></th>\n",
       "    </tr>\n",
       "  </thead>\n",
       "  <tbody>\n",
       "    <tr>\n",
       "      <th>1</th>\n",
       "      <td>84.154687</td>\n",
       "      <td>78.380373</td>\n",
       "    </tr>\n",
       "    <tr>\n",
       "      <th>2</th>\n",
       "      <td>20.662183</td>\n",
       "      <td>13.417399</td>\n",
       "    </tr>\n",
       "    <tr>\n",
       "      <th>3</th>\n",
       "      <td>13.675550</td>\n",
       "      <td>11.778142</td>\n",
       "    </tr>\n",
       "  </tbody>\n",
       "</table>\n",
       "</div>"
      ],
      "text/plain": [
       "             Fare           \n",
       "             mean        std\n",
       "Pclass                      \n",
       "1       84.154687  78.380373\n",
       "2       20.662183  13.417399\n",
       "3       13.675550  11.778142"
      ]
     },
     "execution_count": 32,
     "metadata": {},
     "output_type": "execute_result"
    }
   ],
   "source": [
    "train_data.groupby(\"Pclass\").agg({\"Fare\":[\"mean\", \"std\"]})"
   ]
  },
  {
   "cell_type": "markdown",
   "metadata": {},
   "source": [
    "### Cabinは欠損している場合、生存率は下がる"
   ]
  },
  {
   "cell_type": "code",
   "execution_count": 33,
   "metadata": {},
   "outputs": [
    {
     "data": {
      "text/plain": [
       "687"
      ]
     },
     "execution_count": 33,
     "metadata": {},
     "output_type": "execute_result"
    }
   ],
   "source": [
    "train_data[\"Cabin\"].isnull().sum()"
   ]
  },
  {
   "cell_type": "code",
   "execution_count": 34,
   "metadata": {},
   "outputs": [
    {
     "name": "stderr",
     "output_type": "stream",
     "text": [
      "C:\\Users\\tomiyou\\Anaconda3\\lib\\site-packages\\ipykernel_launcher.py:2: SettingWithCopyWarning: \n",
      "A value is trying to be set on a copy of a slice from a DataFrame.\n",
      "Try using .loc[row_indexer,col_indexer] = value instead\n",
      "\n",
      "See the caveats in the documentation: http://pandas.pydata.org/pandas-docs/stable/indexing.html#indexing-view-versus-copy\n",
      "  \n",
      "C:\\Users\\tomiyou\\Anaconda3\\lib\\site-packages\\pandas\\core\\indexing.py:537: SettingWithCopyWarning: \n",
      "A value is trying to be set on a copy of a slice from a DataFrame.\n",
      "Try using .loc[row_indexer,col_indexer] = value instead\n",
      "\n",
      "See the caveats in the documentation: http://pandas.pydata.org/pandas-docs/stable/indexing.html#indexing-view-versus-copy\n",
      "  self.obj[item] = s\n",
      "C:\\Users\\tomiyou\\Anaconda3\\lib\\site-packages\\seaborn\\axisgrid.py:703: UserWarning: Using the barplot function without specifying `order` is likely to produce an incorrect plot.\n",
      "  warnings.warn(warning)\n"
     ]
    },
    {
     "data": {
      "text/plain": [
       "<seaborn.axisgrid.FacetGrid at 0x21d3701a780>"
      ]
     },
     "execution_count": 34,
     "metadata": {},
     "output_type": "execute_result"
    },
    {
     "data": {
      "image/png": "[encoded data removed]",
      "text/plain": [
       "<matplotlib.figure.Figure at 0x21d3ddf53c8>"
      ]
     },
     "metadata": {},
     "output_type": "display_data"
    }
   ],
   "source": [
    "cabin_data = train_data[[\"Cabin\", \"Sex\", \"Survived\"]]\n",
    "cabin_data[\"Is_nan\"] = 0\n",
    "cabin_data.loc[cabin_data[\"Cabin\"].isnull(), \"Is_nan\"] = 1\n",
    "#sns.barplot(\"is_nan\", \"Survived\", data=cabin_data)\n",
    "a = sns.FacetGrid(cabin_data, col = \"Sex\")\n",
    "a.map(sns.barplot, \"Is_nan\", \"Survived\", )\n",
    "a.add_legend()"
   ]
  },
  {
   "cell_type": "markdown",
   "metadata": {},
   "source": [
    "Cabinの頭文字が船内の区画を表している？そうであれば、生存率の高い区画があるかもしれない"
   ]
  },
  {
   "cell_type": "code",
   "execution_count": 35,
   "metadata": {},
   "outputs": [
    {
     "data": {
      "text/plain": [
       "C23 C25 C27        4\n",
       "B96 B98            4\n",
       "G6                 4\n",
       "D                  3\n",
       "E101               3\n",
       "F33                3\n",
       "C22 C26            3\n",
       "F2                 3\n",
       "E121               2\n",
       "B77                2\n",
       "D17                2\n",
       "F G73              2\n",
       "C125               2\n",
       "F4                 2\n",
       "B22                2\n",
       "C83                2\n",
       "E67                2\n",
       "E25                2\n",
       "E24                2\n",
       "C123               2\n",
       "E44                2\n",
       "B57 B59 B63 B66    2\n",
       "C2                 2\n",
       "C65                2\n",
       "E33                2\n",
       "C126               2\n",
       "B58 B60            2\n",
       "C93                2\n",
       "C78                2\n",
       "D33                2\n",
       "                  ..\n",
       "B37                1\n",
       "D21                1\n",
       "B42                1\n",
       "A24                1\n",
       "B71                1\n",
       "C86                1\n",
       "C95                1\n",
       "C50                1\n",
       "F G63              1\n",
       "C91                1\n",
       "C87                1\n",
       "B39                1\n",
       "C49                1\n",
       "B78                1\n",
       "D56                1\n",
       "A23                1\n",
       "A16                1\n",
       "E77                1\n",
       "C106               1\n",
       "E49                1\n",
       "A26                1\n",
       "C7                 1\n",
       "C111               1\n",
       "E46                1\n",
       "C103               1\n",
       "E38                1\n",
       "D15                1\n",
       "F38                1\n",
       "E17                1\n",
       "A6                 1\n",
       "Name: Cabin, Length: 147, dtype: int64"
      ]
     },
     "execution_count": 35,
     "metadata": {},
     "output_type": "execute_result"
    }
   ],
   "source": [
    "train_data[\"Cabin\"].value_counts()"
   ]
  },
  {
   "cell_type": "code",
   "execution_count": 36,
   "metadata": {},
   "outputs": [
    {
     "name": "stderr",
     "output_type": "stream",
     "text": [
      "C:\\Users\\tomiyou\\Anaconda3\\lib\\site-packages\\ipykernel_launcher.py:3: SettingWithCopyWarning: \n",
      "A value is trying to be set on a copy of a slice from a DataFrame\n",
      "\n",
      "See the caveats in the documentation: http://pandas.pydata.org/pandas-docs/stable/indexing.html#indexing-view-versus-copy\n",
      "  This is separate from the ipykernel package so we can avoid doing imports until\n",
      "C:\\Users\\tomiyou\\Anaconda3\\lib\\site-packages\\ipykernel_launcher.py:4: SettingWithCopyWarning: \n",
      "A value is trying to be set on a copy of a slice from a DataFrame.\n",
      "Try using .loc[row_indexer,col_indexer] = value instead\n",
      "\n",
      "See the caveats in the documentation: http://pandas.pydata.org/pandas-docs/stable/indexing.html#indexing-view-versus-copy\n",
      "  after removing the cwd from sys.path.\n",
      "C:\\Users\\tomiyou\\Anaconda3\\lib\\site-packages\\seaborn\\axisgrid.py:703: UserWarning: Using the barplot function without specifying `order` is likely to produce an incorrect plot.\n",
      "  warnings.warn(warning)\n"
     ]
    },
    {
     "name": "stdout",
     "output_type": "stream",
     "text": [
      "C    59\n",
      "B    47\n",
      "D    33\n",
      "E    32\n",
      "A    15\n",
      "F    13\n",
      "G     4\n",
      "T     1\n",
      "Name: Cabin_cap, dtype: int64\n"
     ]
    },
    {
     "data": {
      "text/plain": [
       "<seaborn.axisgrid.FacetGrid at 0x21d3e1bef28>"
      ]
     },
     "execution_count": 36,
     "metadata": {},
     "output_type": "execute_result"
    },
    {
     "data": {
      "image/png": "[encoded data removed]",
      "text/plain": [
       "<matplotlib.figure.Figure at 0x21d3e193c50>"
      ]
     },
     "metadata": {},
     "output_type": "display_data"
    }
   ],
   "source": [
    "#頭文字を取り出す\n",
    "cabin_data = train_data[[\"Cabin\", \"Sex\", \"Survived\"]]\n",
    "cabin_data.dropna(inplace=True)\n",
    "cabin_data[\"Cabin_cap\"] = cabin_data[\"Cabin\"].apply(lambda x: str(x)[0])\n",
    "print(cabin_data[\"Cabin_cap\"].value_counts())\n",
    "a = sns.FacetGrid(cabin_data, col = \"Sex\")\n",
    "a.map(sns.barplot, \"Cabin_cap\", \"Survived\", )\n",
    "a.add_legend()"
   ]
  },
  {
   "cell_type": "markdown",
   "metadata": {},
   "source": [
    "各Cabinの生存率の違いはいまいち解釈しにくいので、予測には使わないこととする"
   ]
  },
  {
   "cell_type": "markdown",
   "metadata": {},
   "source": [
    "### Ticket"
   ]
  },
  {
   "cell_type": "code",
   "execution_count": 37,
   "metadata": {
    "scrolled": false
   },
   "outputs": [
    {
     "data": {
      "text/html": [
       "<div>\n",
       "<style scoped>\n",
       "    .dataframe tbody tr th:only-of-type {\n",
       "        vertical-align: middle;\n",
       "    }\n",
       "\n",
       "    .dataframe tbody tr th {\n",
       "        vertical-align: top;\n",
       "    }\n",
       "\n",
       "    .dataframe thead th {\n",
       "        text-align: right;\n",
       "    }\n",
       "</style>\n",
       "<table border=\"1\" class=\"dataframe\">\n",
       "  <thead>\n",
       "    <tr style=\"text-align: right;\">\n",
       "      <th></th>\n",
       "      <th>Ticket_0</th>\n",
       "      <th>Ticket_1</th>\n",
       "      <th>Survived</th>\n",
       "      <th>Fare</th>\n",
       "      <th>Sex</th>\n",
       "      <th>Pclass</th>\n",
       "    </tr>\n",
       "  </thead>\n",
       "  <tbody>\n",
       "    <tr>\n",
       "      <th>0</th>\n",
       "      <td>A/5</td>\n",
       "      <td>21171</td>\n",
       "      <td>0</td>\n",
       "      <td>7.2500</td>\n",
       "      <td>male</td>\n",
       "      <td>3</td>\n",
       "    </tr>\n",
       "    <tr>\n",
       "      <th>1</th>\n",
       "      <td>PC</td>\n",
       "      <td>17599</td>\n",
       "      <td>1</td>\n",
       "      <td>71.2833</td>\n",
       "      <td>female</td>\n",
       "      <td>1</td>\n",
       "    </tr>\n",
       "    <tr>\n",
       "      <th>2</th>\n",
       "      <td>STON/O2.</td>\n",
       "      <td>3101282</td>\n",
       "      <td>1</td>\n",
       "      <td>7.9250</td>\n",
       "      <td>female</td>\n",
       "      <td>3</td>\n",
       "    </tr>\n",
       "    <tr>\n",
       "      <th>3</th>\n",
       "      <td></td>\n",
       "      <td>113803</td>\n",
       "      <td>1</td>\n",
       "      <td>53.1000</td>\n",
       "      <td>female</td>\n",
       "      <td>1</td>\n",
       "    </tr>\n",
       "    <tr>\n",
       "      <th>4</th>\n",
       "      <td></td>\n",
       "      <td>373450</td>\n",
       "      <td>0</td>\n",
       "      <td>8.0500</td>\n",
       "      <td>male</td>\n",
       "      <td>3</td>\n",
       "    </tr>\n",
       "  </tbody>\n",
       "</table>\n",
       "</div>"
      ],
      "text/plain": [
       "   Ticket_0 Ticket_1  Survived     Fare     Sex  Pclass\n",
       "0       A/5    21171         0   7.2500    male       3\n",
       "1        PC    17599         1  71.2833  female       1\n",
       "2  STON/O2.  3101282         1   7.9250  female       3\n",
       "3             113803         1  53.1000  female       1\n",
       "4             373450         0   8.0500    male       3"
      ]
     },
     "execution_count": 37,
     "metadata": {},
     "output_type": "execute_result"
    }
   ],
   "source": [
    "ticket_data = train_data[\"Ticket\"].apply(lambda x:str(x).rsplit(\" \", 1))\n",
    "ticket_data = pd.DataFrame({\"Ticket_0\":ticket_data.apply(lambda x: x[0] if len(x) > 1 else \"\"),\n",
    "                            \"Ticket_1\":ticket_data.apply(lambda x: x[1] if len(x) > 1 else x[0])})\n",
    "ticket_data[\"Survived\"] = train_data[\"Survived\"]\n",
    "ticket_data[\"Fare\"] = train_data[\"Fare\"]\n",
    "ticket_data[\"Sex\"] = train_data[\"Sex\"]\n",
    "ticket_data[\"Pclass\"] = train_data[\"Pclass\"]\n",
    "ticket_data.head()"
   ]
  },
  {
   "cell_type": "code",
   "execution_count": 38,
   "metadata": {},
   "outputs": [
    {
     "data": {
      "text/plain": [
       "               665\n",
       "PC              60\n",
       "C.A.            27\n",
       "STON/O 2.       12\n",
       "A/5             10\n",
       "W./C.            9\n",
       "CA.              8\n",
       "SOTON/O.Q.       8\n",
       "SOTON/OQ         7\n",
       "A/5.             7\n",
       "STON/O2.         6\n",
       "CA               6\n",
       "F.C.C.           5\n",
       "S.O.C.           5\n",
       "SC/PARIS         5\n",
       "C                5\n",
       "SC/Paris         4\n",
       "A/4              3\n",
       "S.O./P.P.        3\n",
       "A/4.             3\n",
       "PP               3\n",
       "A./5.            2\n",
       "SC/AH            2\n",
       "A.5.             2\n",
       "S.C./PARIS       2\n",
       "P/PP             2\n",
       "SOTON/O2         2\n",
       "WE/P             2\n",
       "SC               1\n",
       "W/C              1\n",
       "S.W./PP          1\n",
       "A4.              1\n",
       "S.O.P.           1\n",
       "SC/AH Basle      1\n",
       "S.C./A.4.        1\n",
       "Fa               1\n",
       "SW/PP            1\n",
       "S.P.             1\n",
       "W.E.P.           1\n",
       "SO/C             1\n",
       "F.C.             1\n",
       "C.A./SOTON       1\n",
       "A/S              1\n",
       "SCO/W            1\n",
       "Name: Ticket_0, dtype: int64"
      ]
     },
     "execution_count": 38,
     "metadata": {},
     "output_type": "execute_result"
    }
   ],
   "source": [
    "ticket_data[\"Ticket_0\"].value_counts()"
   ]
  },
  {
   "cell_type": "code",
   "execution_count": 39,
   "metadata": {
    "scrolled": true
   },
   "outputs": [
    {
     "data": {
      "text/plain": [
       "<matplotlib.axes._subplots.AxesSubplot at 0x21d3e1d52b0>"
      ]
     },
     "execution_count": 39,
     "metadata": {},
     "output_type": "execute_result"
    },
    {
     "data": {
      "image/png": "[encoded data removed]",
      "text/plain": [
       "<matplotlib.figure.Figure at 0x21d3e2be390>"
      ]
     },
     "metadata": {},
     "output_type": "display_data"
    }
   ],
   "source": [
    "plt.figure(figsize=(18,4))\n",
    "plt.xticks(rotation=80)\n",
    "sns.barplot(\"Ticket_0\", \"Survived\", data=ticket_data)"
   ]
  },
  {
   "cell_type": "code",
   "execution_count": 40,
   "metadata": {},
   "outputs": [
    {
     "data": {
      "text/plain": [
       "<matplotlib.axes._subplots.AxesSubplot at 0x21d3e608d30>"
      ]
     },
     "execution_count": 40,
     "metadata": {},
     "output_type": "execute_result"
    },
    {
     "data": {
      "image/png": "[encoded data removed]",
      "text/plain": [
       "<matplotlib.figure.Figure at 0x21d3e60f198>"
      ]
     },
     "metadata": {},
     "output_type": "display_data"
    }
   ],
   "source": [
    "plt.figure(figsize=(18,4))\n",
    "plt.xticks(rotation=80)\n",
    "sns.barplot(\"Ticket_0\", \"Fare\", data=ticket_data)"
   ]
  },
  {
   "cell_type": "code",
   "execution_count": 41,
   "metadata": {},
   "outputs": [
    {
     "name": "stderr",
     "output_type": "stream",
     "text": [
      "C:\\Users\\tomiyou\\Anaconda3\\lib\\site-packages\\ipykernel_launcher.py:2: SettingWithCopyWarning: \n",
      "A value is trying to be set on a copy of a slice from a DataFrame.\n",
      "Try using .loc[row_indexer,col_indexer] = value instead\n",
      "\n",
      "See the caveats in the documentation: http://pandas.pydata.org/pandas-docs/stable/indexing.html#indexing-view-versus-copy\n",
      "  \n"
     ]
    },
    {
     "data": {
      "text/plain": [
       "<seaborn.axisgrid.FacetGrid at 0x21d3e740d30>"
      ]
     },
     "execution_count": 41,
     "metadata": {},
     "output_type": "execute_result"
    },
    {
     "data": {
      "image/png": "[encoded data removed]",
      "text/plain": [
       "<matplotlib.figure.Figure at 0x21d3e73aa90>"
      ]
     },
     "metadata": {},
     "output_type": "display_data"
    }
   ],
   "source": [
    "ticket_data_num = ticket_data[ticket_data[\"Ticket_1\"] != \"LINE\"]\n",
    "ticket_data_num[\"Ticket_1\"] = ticket_data_num[\"Ticket_1\"].astype(int)\n",
    "a = sns.FacetGrid(ticket_data_num, row = \"Sex\", hue = 'Survived', aspect=4 )\n",
    "a.map(sns.kdeplot, 'Ticket_1', shade= True )\n",
    "a.set(xlim=(0 , ticket_data_num['Ticket_1'].max()))\n",
    "a.add_legend()"
   ]
  },
  {
   "cell_type": "code",
   "execution_count": 42,
   "metadata": {},
   "outputs": [
    {
     "name": "stderr",
     "output_type": "stream",
     "text": [
      "C:\\Users\\tomiyou\\Anaconda3\\lib\\site-packages\\ipykernel_launcher.py:2: SettingWithCopyWarning: \n",
      "A value is trying to be set on a copy of a slice from a DataFrame.\n",
      "Try using .loc[row_indexer,col_indexer] = value instead\n",
      "\n",
      "See the caveats in the documentation: http://pandas.pydata.org/pandas-docs/stable/indexing.html#indexing-view-versus-copy\n",
      "  \n"
     ]
    },
    {
     "data": {
      "text/plain": [
       "<matplotlib.axes._subplots.AxesSubplot at 0x21d3e765f60>"
      ]
     },
     "execution_count": 42,
     "metadata": {},
     "output_type": "execute_result"
    },
    {
     "data": {
      "image/png": "[encoded data removed]",
      "text/plain": [
       "<matplotlib.figure.Figure at 0x21d3e740710>"
      ]
     },
     "metadata": {},
     "output_type": "display_data"
    }
   ],
   "source": [
    "binned_ticket_num = ticket_data_num[[\"Ticket_1\", \"Sex\", \"Fare\", \"Survived\"]]\n",
    "binned_ticket_num[\"Binned_ticket_num\"] = pd.qcut(ticket_data_num[\"Ticket_1\"], 20)\n",
    "plt.figure(figsize=(12,4))\n",
    "plt.xticks(rotation=80)\n",
    "sns.barplot(\"Binned_ticket_num\", \"Survived\", data=binned_ticket_num)"
   ]
  },
  {
   "cell_type": "code",
   "execution_count": 43,
   "metadata": {},
   "outputs": [
    {
     "data": {
      "text/plain": [
       "<matplotlib.axes._subplots.AxesSubplot at 0x21d3e9d8cf8>"
      ]
     },
     "execution_count": 43,
     "metadata": {},
     "output_type": "execute_result"
    },
    {
     "data": {
      "image/png": "[encoded data removed]",
      "text/plain": [
       "<matplotlib.figure.Figure at 0x21d3e9d86d8>"
      ]
     },
     "metadata": {},
     "output_type": "display_data"
    }
   ],
   "source": [
    "binned_ticket_num = ticket_data_num[[\"Ticket_1\", \"Sex\", \"Fare\", \"Pclass\", \"Survived\"]]\n",
    "bins = pd.IntervalIndex.from_tuples([(0, 9999), (10000, 19999), (20000, 99999), (100000, 299999),(300000,4000000)])\n",
    "binned_ticket_num[\"Binned_ticket_num\"] = pd.cut(ticket_data_num[\"Ticket_1\"], bins=bins)\n",
    "plt.figure(figsize=(12,4))\n",
    "plt.xticks(rotation=80)\n",
    "sns.barplot(\"Binned_ticket_num\", \"Survived\", data=binned_ticket_num)"
   ]
  },
  {
   "cell_type": "code",
   "execution_count": 44,
   "metadata": {
    "scrolled": false
   },
   "outputs": [
    {
     "data": {
      "text/plain": [
       "<matplotlib.axes._subplots.AxesSubplot at 0x21d3e780940>"
      ]
     },
     "execution_count": 44,
     "metadata": {},
     "output_type": "execute_result"
    },
    {
     "data": {
      "image/png": "[encoded data removed]",
      "text/plain": [
       "<matplotlib.figure.Figure at 0x21d3e780ba8>"
      ]
     },
     "metadata": {},
     "output_type": "display_data"
    }
   ],
   "source": [
    "plt.figure(figsize=(12,4))\n",
    "plt.xticks(rotation=80)\n",
    "sns.barplot(\"Binned_ticket_num\", \"Fare\", data=binned_ticket_num)"
   ]
  },
  {
   "cell_type": "code",
   "execution_count": 45,
   "metadata": {},
   "outputs": [
    {
     "data": {
      "text/plain": [
       "<matplotlib.axes._subplots.AxesSubplot at 0x21d3eebc278>"
      ]
     },
     "execution_count": 45,
     "metadata": {},
     "output_type": "execute_result"
    },
    {
     "data": {
      "image/png": "[encoded data removed]",
      "text/plain": [
       "<matplotlib.figure.Figure at 0x21d3eebc3c8>"
      ]
     },
     "metadata": {},
     "output_type": "display_data"
    }
   ],
   "source": [
    "plt.figure(figsize=(12,4))\n",
    "plt.xticks(rotation=80)\n",
    "sns.barplot(\"Binned_ticket_num\", \"Pclass\", data=binned_ticket_num)"
   ]
  },
  {
   "cell_type": "code",
   "execution_count": 46,
   "metadata": {},
   "outputs": [
    {
     "data": {
      "text/html": [
       "<div>\n",
       "<style scoped>\n",
       "    .dataframe tbody tr th:only-of-type {\n",
       "        vertical-align: middle;\n",
       "    }\n",
       "\n",
       "    .dataframe tbody tr th {\n",
       "        vertical-align: top;\n",
       "    }\n",
       "\n",
       "    .dataframe thead th {\n",
       "        text-align: right;\n",
       "    }\n",
       "</style>\n",
       "<table border=\"1\" class=\"dataframe\">\n",
       "  <thead>\n",
       "    <tr style=\"text-align: right;\">\n",
       "      <th></th>\n",
       "      <th>Ticket_0</th>\n",
       "      <th>Ticket_1</th>\n",
       "      <th>Survived</th>\n",
       "      <th>Fare</th>\n",
       "      <th>Sex</th>\n",
       "      <th>Pclass</th>\n",
       "    </tr>\n",
       "  </thead>\n",
       "  <tbody>\n",
       "    <tr>\n",
       "      <th>179</th>\n",
       "      <td></td>\n",
       "      <td>LINE</td>\n",
       "      <td>0</td>\n",
       "      <td>0.0</td>\n",
       "      <td>male</td>\n",
       "      <td>3</td>\n",
       "    </tr>\n",
       "    <tr>\n",
       "      <th>271</th>\n",
       "      <td></td>\n",
       "      <td>LINE</td>\n",
       "      <td>1</td>\n",
       "      <td>0.0</td>\n",
       "      <td>male</td>\n",
       "      <td>3</td>\n",
       "    </tr>\n",
       "    <tr>\n",
       "      <th>302</th>\n",
       "      <td></td>\n",
       "      <td>LINE</td>\n",
       "      <td>0</td>\n",
       "      <td>0.0</td>\n",
       "      <td>male</td>\n",
       "      <td>3</td>\n",
       "    </tr>\n",
       "    <tr>\n",
       "      <th>597</th>\n",
       "      <td></td>\n",
       "      <td>LINE</td>\n",
       "      <td>0</td>\n",
       "      <td>0.0</td>\n",
       "      <td>male</td>\n",
       "      <td>3</td>\n",
       "    </tr>\n",
       "  </tbody>\n",
       "</table>\n",
       "</div>"
      ],
      "text/plain": [
       "    Ticket_0 Ticket_1  Survived  Fare   Sex  Pclass\n",
       "179              LINE         0   0.0  male       3\n",
       "271              LINE         1   0.0  male       3\n",
       "302              LINE         0   0.0  male       3\n",
       "597              LINE         0   0.0  male       3"
      ]
     },
     "execution_count": 46,
     "metadata": {},
     "output_type": "execute_result"
    }
   ],
   "source": [
    "ticket_data[ticket_data[\"Ticket_1\"] == \"LINE\"]"
   ]
  },
  {
   "cell_type": "markdown",
   "metadata": {},
   "source": [
    "### Embarkedは、C＞Q>Sの順に生存率が高い\n",
    "* この関係は、概ねFareに紐づいている(C＞S＞Q)のだが、SとQについてはFareの大小関係と逆転している"
   ]
  },
  {
   "cell_type": "code",
   "execution_count": 47,
   "metadata": {},
   "outputs": [
    {
     "data": {
      "text/plain": [
       "2"
      ]
     },
     "execution_count": 47,
     "metadata": {},
     "output_type": "execute_result"
    }
   ],
   "source": [
    "train_data[\"Embarked\"].isnull().sum()"
   ]
  },
  {
   "cell_type": "code",
   "execution_count": 48,
   "metadata": {},
   "outputs": [
    {
     "name": "stderr",
     "output_type": "stream",
     "text": [
      "C:\\Users\\tomiyou\\Anaconda3\\lib\\site-packages\\seaborn\\axisgrid.py:703: UserWarning: Using the barplot function without specifying `order` is likely to produce an incorrect plot.\n",
      "  warnings.warn(warning)\n"
     ]
    },
    {
     "data": {
      "text/plain": [
       "<seaborn.axisgrid.FacetGrid at 0x21d3ee2fe80>"
      ]
     },
     "execution_count": 48,
     "metadata": {},
     "output_type": "execute_result"
    },
    {
     "data": {
      "image/png": "[encoded data removed]",
      "text/plain": [
       "<matplotlib.figure.Figure at 0x21d3ef26be0>"
      ]
     },
     "metadata": {},
     "output_type": "display_data"
    }
   ],
   "source": [
    "a = sns.FacetGrid(train_data, col = \"Sex\")\n",
    "a.map(sns.barplot, \"Embarked\", \"Survived\", )\n",
    "a.add_legend()"
   ]
  },
  {
   "cell_type": "code",
   "execution_count": 49,
   "metadata": {},
   "outputs": [
    {
     "data": {
      "text/plain": [
       "<matplotlib.axes._subplots.AxesSubplot at 0x21d40257b70>"
      ]
     },
     "execution_count": 49,
     "metadata": {},
     "output_type": "execute_result"
    },
    {
     "data": {
      "image/png": "[encoded data removed]",
      "text/plain": [
       "<matplotlib.figure.Figure at 0x21d3d3476a0>"
      ]
     },
     "metadata": {},
     "output_type": "display_data"
    }
   ],
   "source": [
    "sns.barplot(\"Embarked\", \"Survived\", data=train_data)"
   ]
  },
  {
   "cell_type": "code",
   "execution_count": 50,
   "metadata": {},
   "outputs": [
    {
     "data": {
      "text/plain": [
       "<matplotlib.axes._subplots.AxesSubplot at 0x21d402d5320>"
      ]
     },
     "execution_count": 50,
     "metadata": {},
     "output_type": "execute_result"
    },
    {
     "data": {
      "image/png": "[encoded data removed]",
      "text/plain": [
       "<matplotlib.figure.Figure at 0x21d402e8b38>"
      ]
     },
     "metadata": {},
     "output_type": "display_data"
    }
   ],
   "source": [
    "sns.barplot(\"Embarked\", \"Fare\", data=train_data)"
   ]
  },
  {
   "cell_type": "code",
   "execution_count": 51,
   "metadata": {},
   "outputs": [
    {
     "data": {
      "text/plain": [
       "Embarked\n",
       "C    59.954144\n",
       "Q    13.276030\n",
       "S    27.079812\n",
       "Name: Fare, dtype: float64"
      ]
     },
     "execution_count": 51,
     "metadata": {},
     "output_type": "execute_result"
    }
   ],
   "source": [
    "train_data.groupby(\"Embarked\")[\"Fare\"].mean()"
   ]
  },
  {
   "cell_type": "markdown",
   "metadata": {},
   "source": [
    "Embarkedは、Fareからも予測できそうである"
   ]
  }
 ],
 "metadata": {
  "kernelspec": {
   "display_name": "Python 3",
   "language": "python",
   "name": "python3"
  },
  "language_info": {
   "codemirror_mode": {
    "name": "ipython",
    "version": 3
   },
   "file_extension": ".py",
   "mimetype": "text/x-python",
   "name": "python",
   "nbconvert_exporter": "python",
   "pygments_lexer": "ipython3",
   "version": "3.6.4"
  }
 },
 "nbformat": 4,
 "nbformat_minor": 2
}
