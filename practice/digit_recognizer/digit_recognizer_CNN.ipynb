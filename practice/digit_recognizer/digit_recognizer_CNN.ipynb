{
 "cells": [
  {
   "cell_type": "code",
   "execution_count": 1,
   "metadata": {},
   "outputs": [],
   "source": [
    "import pandas as pd\n",
    "import numpy as np\n",
    "import matplotlib.pyplot as plt\n",
    "import matplotlib.image as mpimg\n",
    "import seaborn as sns\n",
    "%matplotlib inline"
   ]
  },
  {
   "cell_type": "code",
   "execution_count": 13,
   "metadata": {},
   "outputs": [],
   "source": [
    "import os\n",
    "from keras.utils import np_utils\n",
    "from keras.models import Sequential\n",
    "from keras.layers.convolutional import Conv2D, MaxPooling2D\n",
    "from keras.layers.core import Activation, Flatten, Dropout,Dense\n",
    "from keras.optimizers import Adam"
   ]
  },
  {
   "cell_type": "code",
   "execution_count": 22,
   "metadata": {},
   "outputs": [],
   "source": [
    "CLASS_NUM = 10\n",
    "IMAGE_SIZE_W = 28\n",
    "IMAGE_SIZE_H = 28\n",
    "FLATTEN_SIZE = IMAGE_SIZE_W*IMAGE_SIZE_H"
   ]
  },
  {
   "cell_type": "code",
   "execution_count": 42,
   "metadata": {},
   "outputs": [
    {
     "name": "stderr",
     "output_type": "stream",
     "text": [
      "C:\\Users\\tomiyou\\Anaconda3\\lib\\site-packages\\sklearn\\model_selection\\_split.py:2026: FutureWarning: From version 0.21, test_size will always complement train_size unless both are specified.\n",
      "  FutureWarning)\n"
     ]
    },
    {
     "name": "stdout",
     "output_type": "stream",
     "text": [
      "X_train:(25200, 28, 28, 1)\n",
      "y_train:(25200,)\n",
      "X_test :(16800, 28, 28, 1)\n",
      "y_test :(16800,)\n",
      "test_data :(28000, 28, 28, 1)\n"
     ]
    }
   ],
   "source": [
    "train_data = pd.read_csv(\"data/train.csv\")\n",
    "test_data = pd.read_csv(\"data/test.csv\")\n",
    "\n",
    "from sklearn.model_selection import train_test_split\n",
    "y = \"label\"\n",
    "X_train, X_test, y_train, y_test = train_test_split(train_data.drop(y, axis=1), \n",
    "                                                        train_data[y],\n",
    "                                                        stratify=train_data[y],\n",
    "                                                        random_state=0,\n",
    "                                                        train_size=0.6)\n",
    "\n",
    "X_train /= 255\n",
    "X_test /= 255\n",
    "test_data /= 255\n",
    "\n",
    "X_train = X_train.as_matrix().reshape(-1, IMAGE_SIZE_H, IMAGE_SIZE_W, 1)\n",
    "X_test = X_test.as_matrix().reshape(-1, IMAGE_SIZE_H, IMAGE_SIZE_W, 1)\n",
    "test_data = test_data.as_matrix().reshape(-1, IMAGE_SIZE_H, IMAGE_SIZE_W, 1)\n",
    "\n",
    "print(\"X_train:{}\\ny_train:{}\".format(X_train.shape, y_train.shape))\n",
    "print(\"X_test :{}\\ny_test :{}\".format(X_test.shape, y_test.shape))\n",
    "print(\"test_data :{}\".format(test_data.shape))"
   ]
  },
  {
   "cell_type": "code",
   "execution_count": 43,
   "metadata": {},
   "outputs": [],
   "source": [
    "y_train = np_utils.to_categorical(y_train, CLASS_NUM)\n",
    "y_test = np_utils.to_categorical(y_test, CLASS_NUM)"
   ]
  },
  {
   "cell_type": "code",
   "execution_count": 52,
   "metadata": {},
   "outputs": [],
   "source": [
    "EPOCH_SIZE = 8\n",
    "BATCH_SIZE = 128"
   ]
  },
  {
   "cell_type": "markdown",
   "metadata": {},
   "source": [
    "### LeNet"
   ]
  },
  {
   "cell_type": "code",
   "execution_count": 53,
   "metadata": {},
   "outputs": [],
   "source": [
    "input_shape = (IMAGE_SIZE_H, IMAGE_SIZE_W, 1)\n",
    "\n",
    "lenet_model = Sequential()\n",
    "lenet_model.add(Conv2D(20, kernel_size=5, padding=\"same\", input_shape=input_shape, activation=\"relu\"))\n",
    "lenet_model.add(MaxPooling2D(pool_size=(2, 2)))\n",
    "lenet_model.add(Conv2D(50, kernel_size=5, padding=\"same\", activation=\"relu\"))\n",
    "lenet_model.add(MaxPooling2D(pool_size=(2, 2)))\n",
    "lenet_model.add(Flatten())\n",
    "lenet_model.add(Dense(120, activation=\"relu\"))\n",
    "lenet_model.add(Dense(64, activation=\"relu\"))\n",
    "lenet_model.add(Dense(CLASS_NUM))\n",
    "lenet_model.add(Activation(\"softmax\"))"
   ]
  },
  {
   "cell_type": "code",
   "execution_count": 54,
   "metadata": {},
   "outputs": [
    {
     "name": "stdout",
     "output_type": "stream",
     "text": [
      "Train on 17640 samples, validate on 7560 samples\n",
      "Epoch 1/8\n",
      "17640/17640 [==============================] - 45s 3ms/step - loss: 0.4684 - acc: 0.8572 - val_loss: 0.1411 - val_acc: 0.9582\n",
      "Epoch 2/8\n",
      "17640/17640 [==============================] - 44s 2ms/step - loss: 0.1055 - acc: 0.9681 - val_loss: 0.0746 - val_acc: 0.9763\n",
      "Epoch 3/8\n",
      "17640/17640 [==============================] - 42s 2ms/step - loss: 0.0625 - acc: 0.9804 - val_loss: 0.0724 - val_acc: 0.9747\n",
      "Epoch 4/8\n",
      "17640/17640 [==============================] - 42s 2ms/step - loss: 0.0454 - acc: 0.9859 - val_loss: 0.0443 - val_acc: 0.9858\n",
      "Epoch 5/8\n",
      "17640/17640 [==============================] - 42s 2ms/step - loss: 0.0352 - acc: 0.9891 - val_loss: 0.0507 - val_acc: 0.9840\n",
      "Epoch 6/8\n",
      "17640/17640 [==============================] - 41s 2ms/step - loss: 0.0285 - acc: 0.9906 - val_loss: 0.0544 - val_acc: 0.9836\n",
      "Epoch 7/8\n",
      "17640/17640 [==============================] - 42s 2ms/step - loss: 0.0204 - acc: 0.9939 - val_loss: 0.0516 - val_acc: 0.9837\n",
      "Epoch 8/8\n",
      "17640/17640 [==============================] - 42s 2ms/step - loss: 0.0170 - acc: 0.9948 - val_loss: 0.0481 - val_acc: 0.9856\n"
     ]
    }
   ],
   "source": [
    "lenet_model.compile(loss=\"categorical_crossentropy\", optimizer=Adam(), metrics=[\"accuracy\"])\n",
    "\n",
    "lenet_history = lenet_model.fit(X_train, y_train, verbose=1,\n",
    "             epochs=EPOCH_SIZE, batch_size=BATCH_SIZE, validation_split=0.3)"
   ]
  },
  {
   "cell_type": "code",
   "execution_count": 55,
   "metadata": {},
   "outputs": [
    {
     "name": "stdout",
     "output_type": "stream",
     "text": [
      "16800/16800 [==============================] - 15s 880us/step\n"
     ]
    },
    {
     "data": {
      "text/plain": [
       "[0.057229259130919155, 0.9826785714285714]"
      ]
     },
     "execution_count": 55,
     "metadata": {},
     "output_type": "execute_result"
    }
   ],
   "source": [
    "lenet_model.evaluate(X_test, y_test, verbose=1)"
   ]
  },
  {
   "cell_type": "code",
   "execution_count": 56,
   "metadata": {},
   "outputs": [],
   "source": [
    "pred_y = lenet_model.predict(test_data)\n",
    "results = np.argmax(pred_y,axis = 1)\n",
    "results = pd.Series(results, name=\"Label\")\n",
    "submission = pd.concat([pd.Series(range(1,28001), name = \"ImageId\"),results], axis = 1)\n",
    "submission.to_csv(\"digit_recognizer_cnn.csv\",index=False) # 0.9850"
   ]
  },
  {
   "cell_type": "markdown",
   "metadata": {},
   "source": [
    "### Data Augmentation"
   ]
  },
  {
   "cell_type": "code",
   "execution_count": 65,
   "metadata": {},
   "outputs": [],
   "source": [
    "EPOCH_SIZE = 2\n",
    "BATCH_SIZE = 128"
   ]
  },
  {
   "cell_type": "code",
   "execution_count": 66,
   "metadata": {},
   "outputs": [],
   "source": [
    "from keras.preprocessing.image import ImageDataGenerator\n",
    "\n",
    "datagen = ImageDataGenerator(\n",
    "        featurewise_center=False,  # set input mean to 0 over the dataset\n",
    "        samplewise_center=False,  # set each sample mean to 0\n",
    "        featurewise_std_normalization=False,  # divide inputs by std of the dataset\n",
    "        samplewise_std_normalization=False,  # divide each input by its std\n",
    "        zca_whitening=False,  # apply ZCA whitening\n",
    "        rotation_range=10,  # randomly rotate images in the range (degrees, 0 to 180)\n",
    "        zoom_range = 0.1, # Randomly zoom image \n",
    "        width_shift_range=0.1,  # randomly shift images horizontally (fraction of total width)\n",
    "        height_shift_range=0.1,  # randomly shift images vertically (fraction of total height)\n",
    "        horizontal_flip=False,  # randomly flip images\n",
    "        vertical_flip=False)  # randomly flip images\n",
    "\n",
    "\n",
    "datagen.fit(X_train)"
   ]
  },
  {
   "cell_type": "code",
   "execution_count": 67,
   "metadata": {},
   "outputs": [
    {
     "name": "stdout",
     "output_type": "stream",
     "text": [
      "Epoch 1/2\n",
      "196/196 [==============================] - 69s 353ms/step - loss: 0.0912 - acc: 0.9729 - val_loss: 0.0436 - val_acc: 0.9864\n",
      "Epoch 2/2\n",
      "196/196 [==============================] - 68s 347ms/step - loss: 0.0660 - acc: 0.9785 - val_loss: 0.0488 - val_acc: 0.9849\n"
     ]
    }
   ],
   "source": [
    "lenet_model.compile(loss=\"categorical_crossentropy\", optimizer=Adam(), metrics=[\"accuracy\"])\n",
    "history_datagen = lenet_model.fit_generator(datagen.flow(X_train, y_train, batch_size=BATCH_SIZE),\n",
    "                              epochs = EPOCH_SIZE, validation_data = (X_test, y_test),\n",
    "                              verbose = 1, steps_per_epoch=X_train.shape[0] // BATCH_SIZE)"
   ]
  },
  {
   "cell_type": "code",
   "execution_count": 68,
   "metadata": {},
   "outputs": [],
   "source": [
    "pred_y = lenet_model.predict(test_data)\n",
    "results = np.argmax(pred_y,axis = 1)\n",
    "results = pd.Series(results, name=\"Label\")\n",
    "submission = pd.concat([pd.Series(range(1,28001), name = \"ImageId\"),results], axis = 1)\n",
    "submission.to_csv(\"digit_recognizer_cnn_da.csv\",index=False) # 0.9850"
   ]
  },
  {
   "cell_type": "code",
   "execution_count": null,
   "metadata": {},
   "outputs": [],
   "source": []
  }
 ],
 "metadata": {
  "kernelspec": {
   "display_name": "Python 3",
   "language": "python",
   "name": "python3"
  },
  "language_info": {
   "codemirror_mode": {
    "name": "ipython",
    "version": 3
   },
   "file_extension": ".py",
   "mimetype": "text/x-python",
   "name": "python",
   "nbconvert_exporter": "python",
   "pygments_lexer": "ipython3",
   "version": "3.6.4"
  }
 },
 "nbformat": 4,
 "nbformat_minor": 2
}
