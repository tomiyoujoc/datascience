{
 "cells": [
  {
   "cell_type": "code",
   "execution_count": 1,
   "metadata": {},
   "outputs": [],
   "source": [
    "import pandas as pd\n",
    "import numpy as np\n",
    "import matplotlib.pyplot as plt\n",
    "import matplotlib.image as mpimg\n",
    "import seaborn as sns\n",
    "%matplotlib inline"
   ]
  },
  {
   "cell_type": "code",
   "execution_count": 2,
   "metadata": {},
   "outputs": [
    {
     "name": "stderr",
     "output_type": "stream",
     "text": [
      "/anaconda3/lib/python3.6/site-packages/h5py/__init__.py:36: FutureWarning: Conversion of the second argument of issubdtype from `float` to `np.floating` is deprecated. In future, it will be treated as `np.float64 == np.dtype(float).type`.\n",
      "  from ._conv import register_converters as _register_converters\n",
      "Using TensorFlow backend.\n"
     ]
    }
   ],
   "source": [
    "from sklearn.metrics import confusion_matrix\n",
    "from sklearn.model_selection import train_test_split\n",
    "\n",
    "from keras.utils import np_utils\n",
    "from keras.models import Sequential\n",
    "from keras.layers import Dense, Activation\n",
    "from keras.optimizers import SGD"
   ]
  },
  {
   "cell_type": "code",
   "execution_count": 3,
   "metadata": {},
   "outputs": [],
   "source": [
    "CLASS_NUM = 10\n",
    "IMAGE_SIZE_W = 28\n",
    "IMAGE_SIZE_H = 28\n",
    "FLATTEN_SIZE = IMAGE_SIZE_W*IMAGE_SIZE_H"
   ]
  },
  {
   "cell_type": "markdown",
   "metadata": {},
   "source": [
    "### データの読み込み"
   ]
  },
  {
   "cell_type": "code",
   "execution_count": 4,
   "metadata": {},
   "outputs": [
    {
     "name": "stdout",
     "output_type": "stream",
     "text": [
      "(42000, 785)\n",
      "(28000, 784)\n"
     ]
    }
   ],
   "source": [
    "train_data = pd.read_csv(\"data/train.csv\")\n",
    "test_data = pd.read_csv(\"data/test.csv\")\n",
    "print(train_data.shape)\n",
    "print(test_data.shape)"
   ]
  },
  {
   "cell_type": "code",
   "execution_count": 5,
   "metadata": {},
   "outputs": [
    {
     "name": "stderr",
     "output_type": "stream",
     "text": [
      "/anaconda3/lib/python3.6/site-packages/sklearn/model_selection/_split.py:2026: FutureWarning: From version 0.21, test_size will always complement train_size unless both are specified.\n",
      "  FutureWarning)\n"
     ]
    },
    {
     "name": "stdout",
     "output_type": "stream",
     "text": [
      "X_train:(25200, 784)\n",
      "y_train:(25200,)\n",
      "X_test :(16800, 784)\n",
      "y_test :(16800,)\n"
     ]
    }
   ],
   "source": [
    "y = \"label\"\n",
    "X_train, X_test, y_train, y_test = train_test_split(train_data.drop(y, axis=1), \n",
    "                                                        train_data[y],\n",
    "                                                        stratify=train_data[y],\n",
    "                                                        random_state=0,\n",
    "                                                        train_size=0.6)\n",
    "print(\"X_train:{}\\ny_train:{}\".format(X_train.shape, y_train.shape))\n",
    "print(\"X_test :{}\\ny_test :{}\".format(X_test.shape, y_test.shape))"
   ]
  },
  {
   "cell_type": "code",
   "execution_count": 6,
   "metadata": {},
   "outputs": [
    {
     "name": "stdout",
     "output_type": "stream",
     "text": [
      "(25200, 784) (25200,)\n",
      "(16800, 784) (16800,)\n"
     ]
    }
   ],
   "source": [
    "print(X_train.shape, y_train.shape)\n",
    "print(X_test.shape, y_test.shape)"
   ]
  },
  {
   "cell_type": "markdown",
   "metadata": {},
   "source": [
    "### [0, 1]に正規化する"
   ]
  },
  {
   "cell_type": "code",
   "execution_count": 7,
   "metadata": {},
   "outputs": [],
   "source": [
    "X_train /= 255\n",
    "X_test /= 255\n",
    "test_data /= 255"
   ]
  },
  {
   "cell_type": "markdown",
   "metadata": {},
   "source": [
    "### 描画関数の定義"
   ]
  },
  {
   "cell_type": "code",
   "execution_count": 8,
   "metadata": {},
   "outputs": [],
   "source": [
    "def plot_image(data, i):\n",
    "    plt.imshow(1-data.iloc[i, :].reshape(IMAGE_SIZE_H, IMAGE_SIZE_W), 'gray')"
   ]
  },
  {
   "cell_type": "code",
   "execution_count": 9,
   "metadata": {},
   "outputs": [
    {
     "name": "stderr",
     "output_type": "stream",
     "text": [
      "/anaconda3/lib/python3.6/site-packages/ipykernel_launcher.py:2: FutureWarning: reshape is deprecated and will raise in a subsequent release. Please use .values.reshape(...) instead\n",
      "  \n"
     ]
    },
    {
     "data": {
      "image/png": "[encoded data removed]",
      "text/plain": [
       "<matplotlib.figure.Figure at 0x1a1494ca58>"
      ]
     },
     "metadata": {},
     "output_type": "display_data"
    }
   ],
   "source": [
    "plot_image(X_train, 0)"
   ]
  },
  {
   "cell_type": "markdown",
   "metadata": {},
   "source": [
    "### 正解ラベルの作成"
   ]
  },
  {
   "cell_type": "code",
   "execution_count": 10,
   "metadata": {},
   "outputs": [
    {
     "data": {
      "text/plain": [
       "array([[0., 0., 0., ..., 0., 0., 1.],\n",
       "       [0., 1., 0., ..., 0., 0., 0.],\n",
       "       [0., 0., 0., ..., 0., 0., 0.],\n",
       "       ...,\n",
       "       [0., 1., 0., ..., 0., 0., 0.],\n",
       "       [0., 0., 0., ..., 0., 0., 0.],\n",
       "       [0., 0., 0., ..., 0., 0., 0.]], dtype=float32)"
      ]
     },
     "execution_count": 10,
     "metadata": {},
     "output_type": "execute_result"
    }
   ],
   "source": [
    "#one-hotエンコーディング\n",
    "y_train = np_utils.to_categorical(y_train, CLASS_NUM)\n",
    "y_train"
   ]
  },
  {
   "cell_type": "code",
   "execution_count": 11,
   "metadata": {},
   "outputs": [
    {
     "name": "stdout",
     "output_type": "stream",
     "text": [
      "0    2479.0\n",
      "1    2810.0\n",
      "2    2506.0\n",
      "3    2611.0\n",
      "4    2443.0\n",
      "5    2277.0\n",
      "6    2482.0\n",
      "7    2641.0\n",
      "8    2438.0\n",
      "9    2513.0\n",
      "dtype: float32\n"
     ]
    },
    {
     "data": {
      "text/plain": [
       "<matplotlib.axes._subplots.AxesSubplot at 0x11190eda0>"
      ]
     },
     "execution_count": 11,
     "metadata": {},
     "output_type": "execute_result"
    },
    {
     "data": {
      "image/png": "[encoded data removed]",
      "text/plain": [
       "<matplotlib.figure.Figure at 0x1a357865c0>"
      ]
     },
     "metadata": {},
     "output_type": "display_data"
    }
   ],
   "source": [
    "y_train_df = pd.DataFrame(y_train, columns=list(range(CLASS_NUM)))\n",
    "print(y_train_df.sum())\n",
    "y_train_df.sum().plot(kind=\"bar\")"
   ]
  },
  {
   "cell_type": "markdown",
   "metadata": {},
   "source": [
    "教師データに隔たりはなさそう"
   ]
  },
  {
   "cell_type": "code",
   "execution_count": 12,
   "metadata": {},
   "outputs": [],
   "source": [
    "y_test = np_utils.to_categorical(y_test, CLASS_NUM)"
   ]
  },
  {
   "cell_type": "markdown",
   "metadata": {},
   "source": [
    "### シンプルなニューラルネットワークを構築"
   ]
  },
  {
   "cell_type": "code",
   "execution_count": 13,
   "metadata": {},
   "outputs": [
    {
     "name": "stdout",
     "output_type": "stream",
     "text": [
      "_________________________________________________________________\n",
      "Layer (type)                 Output Shape              Param #   \n",
      "=================================================================\n",
      "dense_1 (Dense)              (None, 128)               100480    \n",
      "_________________________________________________________________\n",
      "activation_1 (Activation)    (None, 128)               0         \n",
      "_________________________________________________________________\n",
      "dense_2 (Dense)              (None, 128)               16512     \n",
      "_________________________________________________________________\n",
      "activation_2 (Activation)    (None, 128)               0         \n",
      "_________________________________________________________________\n",
      "dense_3 (Dense)              (None, 10)                1290      \n",
      "_________________________________________________________________\n",
      "activation_3 (Activation)    (None, 10)                0         \n",
      "=================================================================\n",
      "Total params: 118,282\n",
      "Trainable params: 118,282\n",
      "Non-trainable params: 0\n",
      "_________________________________________________________________\n"
     ]
    }
   ],
   "source": [
    "nn_model1 = Sequential()\n",
    "nn_model1.add(Dense(128, input_shape=(FLATTEN_SIZE,)))\n",
    "nn_model1.add(Activation(\"relu\"))\n",
    "nn_model1.add(Dense(128))\n",
    "nn_model1.add(Activation(\"relu\"))\n",
    "nn_model1.add(Dense(CLASS_NUM))\n",
    "nn_model1.add(Activation(\"softmax\"))\n",
    "nn_model1.summary()\n",
    "nn_model1.name = \"base_network\""
   ]
  },
  {
   "cell_type": "code",
   "execution_count": 14,
   "metadata": {},
   "outputs": [],
   "source": [
    "EPOCH_SIZE = 50\n",
    "BATCH_SIZE = 200"
   ]
  },
  {
   "cell_type": "code",
   "execution_count": 15,
   "metadata": {
    "scrolled": false
   },
   "outputs": [],
   "source": [
    "nn_model1.compile(loss=\"categorical_crossentropy\", optimizer=SGD(), metrics=[\"accuracy\"])\n",
    "\n",
    "history1 = nn_model1.fit(X_train, y_train, verbose=0,\n",
    "             epochs=EPOCH_SIZE, batch_size=BATCH_SIZE, validation_split=0.3)"
   ]
  },
  {
   "cell_type": "code",
   "execution_count": 16,
   "metadata": {},
   "outputs": [
    {
     "name": "stdout",
     "output_type": "stream",
     "text": [
      "16800/16800 [==============================] - 1s 41us/step\n"
     ]
    },
    {
     "data": {
      "text/plain": [
       "[0.25200681159893673, 0.9244642857142857]"
      ]
     },
     "execution_count": 16,
     "metadata": {},
     "output_type": "execute_result"
    }
   ],
   "source": [
    "nn_model1.evaluate(X_test, y_test)"
   ]
  },
  {
   "cell_type": "code",
   "execution_count": 17,
   "metadata": {},
   "outputs": [],
   "source": [
    "def plot_history(history):\n",
    "    # 精度の履歴をプロット\n",
    "    plt.plot(history.history['acc'])\n",
    "    plt.plot(history.history['val_acc'])\n",
    "    plt.title('model accuracy')\n",
    "    plt.xlabel('epoch')\n",
    "    plt.ylabel('accuracy')\n",
    "    plt.legend(['acc', 'val_acc'], loc='lower right')\n",
    "    plt.show()\n",
    "\n",
    "    # 損失の履歴をプロット\n",
    "    plt.plot(history.history['loss'])\n",
    "    plt.plot(history.history['val_loss'])\n",
    "    plt.title('model loss')\n",
    "    plt.xlabel('epoch')\n",
    "    plt.ylabel('loss')\n",
    "    plt.legend(['loss', 'val_loss'], loc='lower right')\n",
    "    plt.show()"
   ]
  },
  {
   "cell_type": "code",
   "execution_count": 18,
   "metadata": {},
   "outputs": [
    {
     "data": {
      "image/png": "[encoded data removed]",
      "text/plain": [
       "<matplotlib.figure.Figure at 0x1a2e21ac18>"
      ]
     },
     "metadata": {},
     "output_type": "display_data"
    },
    {
     "data": {
      "image/png": "[encoded data removed]",
      "text/plain": [
       "<matplotlib.figure.Figure at 0x1a2e2222b0>"
      ]
     },
     "metadata": {},
     "output_type": "display_data"
    }
   ],
   "source": [
    "plot_history(history1)"
   ]
  },
  {
   "cell_type": "markdown",
   "metadata": {},
   "source": [
    "### ドロップアウト層の追加"
   ]
  },
  {
   "cell_type": "code",
   "execution_count": 19,
   "metadata": {},
   "outputs": [],
   "source": [
    "from keras.layers import Dropout"
   ]
  },
  {
   "cell_type": "code",
   "execution_count": 20,
   "metadata": {},
   "outputs": [
    {
     "name": "stdout",
     "output_type": "stream",
     "text": [
      "_________________________________________________________________\n",
      "Layer (type)                 Output Shape              Param #   \n",
      "=================================================================\n",
      "dense_4 (Dense)              (None, 128)               100480    \n",
      "_________________________________________________________________\n",
      "activation_4 (Activation)    (None, 128)               0         \n",
      "_________________________________________________________________\n",
      "dropout_1 (Dropout)          (None, 128)               0         \n",
      "_________________________________________________________________\n",
      "dense_5 (Dense)              (None, 128)               16512     \n",
      "_________________________________________________________________\n",
      "activation_5 (Activation)    (None, 128)               0         \n",
      "_________________________________________________________________\n",
      "dropout_2 (Dropout)          (None, 128)               0         \n",
      "_________________________________________________________________\n",
      "dense_6 (Dense)              (None, 10)                1290      \n",
      "_________________________________________________________________\n",
      "activation_6 (Activation)    (None, 10)                0         \n",
      "=================================================================\n",
      "Total params: 118,282\n",
      "Trainable params: 118,282\n",
      "Non-trainable params: 0\n",
      "_________________________________________________________________\n"
     ]
    }
   ],
   "source": [
    "nn_model2 = Sequential()\n",
    "nn_model2.add(Dense(128, input_shape=(FLATTEN_SIZE,)))\n",
    "nn_model2.add(Activation(\"relu\"))\n",
    "nn_model2.add(Dropout(0.3)) #ドロップアウト層 追加\n",
    "nn_model2.add(Dense(128))\n",
    "nn_model2.add(Activation(\"relu\"))\n",
    "nn_model2.add(Dropout(0.3)) #ドロップアウト層 追加\n",
    "nn_model2.add(Dense(CLASS_NUM))\n",
    "nn_model2.add(Activation(\"softmax\"))\n",
    "nn_model2.summary()\n",
    "nn_model2.name = \"add_dropout\""
   ]
  },
  {
   "cell_type": "code",
   "execution_count": 21,
   "metadata": {},
   "outputs": [],
   "source": [
    "nn_model2.compile(loss=\"categorical_crossentropy\", optimizer=SGD(), metrics=[\"accuracy\"])\n",
    "\n",
    "history2 = nn_model2.fit(X_train, y_train, verbose=0,\n",
    "             epochs=EPOCH_SIZE, batch_size=BATCH_SIZE, validation_split=0.3)"
   ]
  },
  {
   "cell_type": "code",
   "execution_count": 22,
   "metadata": {},
   "outputs": [
    {
     "name": "stdout",
     "output_type": "stream",
     "text": [
      "16800/16800 [==============================] - 1s 41us/step\n"
     ]
    },
    {
     "data": {
      "text/plain": [
       "[0.2576335581498487, 0.9218452380952381]"
      ]
     },
     "execution_count": 22,
     "metadata": {},
     "output_type": "execute_result"
    }
   ],
   "source": [
    "nn_model2.evaluate(X_test, y_test)"
   ]
  },
  {
   "cell_type": "code",
   "execution_count": 23,
   "metadata": {},
   "outputs": [],
   "source": [
    "def plot_compare_history(histories, index, names):\n",
    "    for history in histories:\n",
    "        plt.plot(history.history[index])\n",
    "    plt.title('compare history ')\n",
    "    plt.xlabel('epoch')\n",
    "    plt.ylabel(index)\n",
    "    plt.legend(names, loc='lower right')\n",
    "    plt.show()"
   ]
  },
  {
   "cell_type": "code",
   "execution_count": 24,
   "metadata": {},
   "outputs": [
    {
     "data": {
      "image/png": "[encoded data removed]",
      "text/plain": [
       "<matplotlib.figure.Figure at 0x1a2e89c0b8>"
      ]
     },
     "metadata": {},
     "output_type": "display_data"
    }
   ],
   "source": [
    "plot_compare_history([history1, history2], \"val_acc\", [\"base\", \"add dropout\"])"
   ]
  },
  {
   "cell_type": "markdown",
   "metadata": {},
   "source": [
    "### 最適化アルゴリズムの変更"
   ]
  },
  {
   "cell_type": "code",
   "execution_count": 25,
   "metadata": {},
   "outputs": [
    {
     "name": "stdout",
     "output_type": "stream",
     "text": [
      "16800/16800 [==============================] - 1s 39us/step\n"
     ]
    },
    {
     "data": {
      "text/plain": [
       "[0.17944935826018557, 0.9667857142857142]"
      ]
     },
     "execution_count": 25,
     "metadata": {},
     "output_type": "execute_result"
    }
   ],
   "source": [
    "from keras.optimizers import RMSprop\n",
    "nn_model3 = Sequential()\n",
    "nn_model3.add(Dense(128, input_shape=(FLATTEN_SIZE,)))\n",
    "nn_model3.add(Activation(\"relu\"))\n",
    "nn_model3.add(Dropout(0.3))\n",
    "nn_model3.add(Dense(128))\n",
    "nn_model3.add(Activation(\"relu\"))\n",
    "nn_model3.add(Dropout(0.3))\n",
    "nn_model3.add(Dense(CLASS_NUM))\n",
    "nn_model3.add(Activation(\"softmax\"))\n",
    "\n",
    "nn_model3.compile(loss=\"categorical_crossentropy\", \n",
    "                  optimizer=RMSprop(),  #RMSpropに変更\n",
    "                  metrics=[\"accuracy\"])\n",
    "\n",
    "history3 = nn_model3.fit(X_train, y_train, verbose=0,\n",
    "             epochs=EPOCH_SIZE, batch_size=BATCH_SIZE, validation_split=0.3)\n",
    "\n",
    "nn_model3.evaluate(X_test, y_test)"
   ]
  },
  {
   "cell_type": "code",
   "execution_count": 26,
   "metadata": {},
   "outputs": [
    {
     "name": "stdout",
     "output_type": "stream",
     "text": [
      "16800/16800 [==============================] - 1s 43us/step\n"
     ]
    },
    {
     "data": {
      "text/plain": [
       "[0.14556879879872472, 0.9679761904761904]"
      ]
     },
     "execution_count": 26,
     "metadata": {},
     "output_type": "execute_result"
    }
   ],
   "source": [
    "from keras.optimizers import Adam\n",
    "nn_model4 = Sequential()\n",
    "nn_model4.add(Dense(128, input_shape=(FLATTEN_SIZE,)))\n",
    "nn_model4.add(Activation(\"relu\"))\n",
    "nn_model4.add(Dropout(0.3))\n",
    "nn_model4.add(Dense(128))\n",
    "nn_model4.add(Activation(\"relu\"))\n",
    "nn_model4.add(Dropout(0.3))\n",
    "nn_model4.add(Dense(CLASS_NUM))\n",
    "nn_model4.add(Activation(\"softmax\"))\n",
    "\n",
    "nn_model4.compile(loss=\"categorical_crossentropy\", \n",
    "                  optimizer=Adam(),  #Adamに変更\n",
    "                  metrics=[\"accuracy\"])\n",
    "\n",
    "history4 = nn_model4.fit(X_train, y_train, verbose=0,\n",
    "             epochs=EPOCH_SIZE, batch_size=BATCH_SIZE, validation_split=0.3)\n",
    "\n",
    "nn_model4.evaluate(X_test, y_test)"
   ]
  },
  {
   "cell_type": "code",
   "execution_count": 27,
   "metadata": {},
   "outputs": [
    {
     "data": {
      "image/png": "[encoded data removed]",
      "text/plain": [
       "<matplotlib.figure.Figure at 0x1a2ea25ac8>"
      ]
     },
     "metadata": {},
     "output_type": "display_data"
    }
   ],
   "source": [
    "plot_compare_history([history2, history3, history4], \"val_acc\", [\"SGD\", \"RMSprop\", \"Adam\"])"
   ]
  },
  {
   "cell_type": "markdown",
   "metadata": {},
   "source": [
    "RMSpropまたはAdamの方が、SGDより精度も高く収束も速い  \n",
    "エポック数は、20くらいで十分そう"
   ]
  },
  {
   "cell_type": "code",
   "execution_count": 28,
   "metadata": {},
   "outputs": [],
   "source": [
    "EPOCH_SIZE = 20"
   ]
  },
  {
   "cell_type": "markdown",
   "metadata": {},
   "source": [
    "### 学習率の調整\n",
    "* Adamを使い学習率による精度の変化を確認する"
   ]
  },
  {
   "cell_type": "code",
   "execution_count": 29,
   "metadata": {},
   "outputs": [],
   "source": [
    "nn_model = Sequential()\n",
    "nn_model.add(Dense(128, input_shape=(FLATTEN_SIZE,)))\n",
    "nn_model.add(Activation(\"relu\"))\n",
    "nn_model.add(Dropout(0.3))\n",
    "nn_model.add(Dense(128))\n",
    "nn_model.add(Activation(\"relu\"))\n",
    "nn_model.add(Dropout(0.3))\n",
    "nn_model.add(Dense(CLASS_NUM))\n",
    "nn_model.add(Activation(\"softmax\"))\n",
    "\n",
    "histories = []\n",
    "names = []\n",
    "test_scores = []\n",
    "lr_list = [0.0001, 0.001, 0.01]\n",
    "for lr in lr_list:\n",
    "    names.append(\"Adam_lr_\"+str(lr))\n",
    "    nn_model.compile(loss=\"categorical_crossentropy\", \n",
    "                      optimizer=Adam(lr=lr), \n",
    "                      metrics=[\"accuracy\"])\n",
    "\n",
    "    history = nn_model.fit(X_train, y_train, verbose=0,\n",
    "                 epochs=EPOCH_SIZE, batch_size=BATCH_SIZE, validation_split=0.3)\n",
    "    histories.append(history)\n",
    "\n",
    "    score = nn_model.evaluate(X_test, y_test, verbose=0)\n",
    "    test_scores.append(score)"
   ]
  },
  {
   "cell_type": "code",
   "execution_count": 30,
   "metadata": {},
   "outputs": [
    {
     "data": {
      "image/png": "[encoded data removed]",
      "text/plain": [
       "<matplotlib.figure.Figure at 0x1a2f100748>"
      ]
     },
     "metadata": {},
     "output_type": "display_data"
    }
   ],
   "source": [
    "plot_compare_history(histories, \"val_acc\", names)"
   ]
  },
  {
   "cell_type": "code",
   "execution_count": 31,
   "metadata": {},
   "outputs": [
    {
     "data": {
      "text/plain": [
       "<matplotlib.axes._subplots.AxesSubplot at 0x1a2c69aa58>"
      ]
     },
     "execution_count": 31,
     "metadata": {},
     "output_type": "execute_result"
    },
    {
     "data": {
      "image/png": "[encoded data removed]",
      "text/plain": [
       "<matplotlib.figure.Figure at 0x1a2c3a43c8>"
      ]
     },
     "metadata": {},
     "output_type": "display_data"
    }
   ],
   "source": [
    "test_scores_df = pd.DataFrame(test_scores, index=lr_list)\n",
    "test_scores_df[1].plot(kind=\"bar\")"
   ]
  },
  {
   "cell_type": "markdown",
   "metadata": {},
   "source": [
    "### 隠れ層の調整"
   ]
  },
  {
   "cell_type": "code",
   "execution_count": 32,
   "metadata": {},
   "outputs": [],
   "source": [
    "histories = []\n",
    "names = []\n",
    "test_scores = []\n",
    "hidden_num_list = [8, 16, 32, 64, 128, 256, 512]\n",
    "for hidden_num in hidden_num_list:\n",
    "    nn_model = Sequential()\n",
    "    nn_model.add(Dense(hidden_num, input_shape=(FLATTEN_SIZE,)))\n",
    "    nn_model.add(Activation(\"relu\"))\n",
    "    nn_model.add(Dropout(0.3))\n",
    "    nn_model.add(Dense(hidden_num))\n",
    "    nn_model.add(Activation(\"relu\"))\n",
    "    nn_model.add(Dropout(0.3))\n",
    "    nn_model.add(Dense(CLASS_NUM))\n",
    "    nn_model.add(Activation(\"softmax\"))\n",
    "\n",
    "    names.append(\"hidden_num_\"+str(hidden_num))\n",
    "    nn_model.compile(loss=\"categorical_crossentropy\", \n",
    "                      optimizer=Adam(), \n",
    "                      metrics=[\"accuracy\"])\n",
    "\n",
    "    history = nn_model.fit(X_train, y_train, verbose=0,\n",
    "                 epochs=EPOCH_SIZE, batch_size=BATCH_SIZE, validation_split=0.3)\n",
    "    histories.append(history)\n",
    "\n",
    "    score = nn_model.evaluate(X_test, y_test, verbose=0)\n",
    "    test_scores.append(score)"
   ]
  },
  {
   "cell_type": "code",
   "execution_count": 33,
   "metadata": {},
   "outputs": [
    {
     "data": {
      "image/png": "[encoded data removed]",
      "text/plain": [
       "<matplotlib.figure.Figure at 0x1a2ea20e10>"
      ]
     },
     "metadata": {},
     "output_type": "display_data"
    }
   ],
   "source": [
    "plot_compare_history(histories, \"val_acc\", names)"
   ]
  },
  {
   "cell_type": "code",
   "execution_count": 34,
   "metadata": {},
   "outputs": [
    {
     "data": {
      "text/plain": [
       "<matplotlib.axes._subplots.AxesSubplot at 0x1a2b19e860>"
      ]
     },
     "execution_count": 34,
     "metadata": {},
     "output_type": "execute_result"
    },
    {
     "data": {
      "image/png": "[encoded data removed]",
      "text/plain": [
       "<matplotlib.figure.Figure at 0x1a2b27b908>"
      ]
     },
     "metadata": {},
     "output_type": "display_data"
    }
   ],
   "source": [
    "test_scores_df = pd.DataFrame(test_scores, index=hidden_num_list)\n",
    "test_scores_df[1].plot(kind=\"bar\")"
   ]
  },
  {
   "cell_type": "code",
   "execution_count": 35,
   "metadata": {},
   "outputs": [
    {
     "data": {
      "text/html": [
       "<div>\n",
       "<style scoped>\n",
       "    .dataframe tbody tr th:only-of-type {\n",
       "        vertical-align: middle;\n",
       "    }\n",
       "\n",
       "    .dataframe tbody tr th {\n",
       "        vertical-align: top;\n",
       "    }\n",
       "\n",
       "    .dataframe thead th {\n",
       "        text-align: right;\n",
       "    }\n",
       "</style>\n",
       "<table border=\"1\" class=\"dataframe\">\n",
       "  <thead>\n",
       "    <tr style=\"text-align: right;\">\n",
       "      <th></th>\n",
       "      <th>0</th>\n",
       "      <th>1</th>\n",
       "    </tr>\n",
       "  </thead>\n",
       "  <tbody>\n",
       "    <tr>\n",
       "      <th>8</th>\n",
       "      <td>0.828927</td>\n",
       "      <td>0.811012</td>\n",
       "    </tr>\n",
       "    <tr>\n",
       "      <th>16</th>\n",
       "      <td>0.322217</td>\n",
       "      <td>0.910179</td>\n",
       "    </tr>\n",
       "    <tr>\n",
       "      <th>32</th>\n",
       "      <td>0.208720</td>\n",
       "      <td>0.939524</td>\n",
       "    </tr>\n",
       "    <tr>\n",
       "      <th>64</th>\n",
       "      <td>0.148847</td>\n",
       "      <td>0.957024</td>\n",
       "    </tr>\n",
       "    <tr>\n",
       "      <th>128</th>\n",
       "      <td>0.123481</td>\n",
       "      <td>0.965417</td>\n",
       "    </tr>\n",
       "    <tr>\n",
       "      <th>256</th>\n",
       "      <td>0.112557</td>\n",
       "      <td>0.971131</td>\n",
       "    </tr>\n",
       "    <tr>\n",
       "      <th>512</th>\n",
       "      <td>0.116586</td>\n",
       "      <td>0.973155</td>\n",
       "    </tr>\n",
       "  </tbody>\n",
       "</table>\n",
       "</div>"
      ],
      "text/plain": [
       "            0         1\n",
       "8    0.828927  0.811012\n",
       "16   0.322217  0.910179\n",
       "32   0.208720  0.939524\n",
       "64   0.148847  0.957024\n",
       "128  0.123481  0.965417\n",
       "256  0.112557  0.971131\n",
       "512  0.116586  0.973155"
      ]
     },
     "execution_count": 35,
     "metadata": {},
     "output_type": "execute_result"
    }
   ],
   "source": [
    "test_scores_df"
   ]
  },
  {
   "cell_type": "markdown",
   "metadata": {},
   "source": [
    "### 最終モデルと予測"
   ]
  },
  {
   "cell_type": "code",
   "execution_count": 36,
   "metadata": {},
   "outputs": [
    {
     "name": "stdout",
     "output_type": "stream",
     "text": [
      "Train on 17640 samples, validate on 7560 samples\n",
      "Epoch 1/20\n",
      "17640/17640 [==============================] - 3s 147us/step - loss: 0.9354 - acc: 0.7156 - val_loss: 0.3285 - val_acc: 0.9053\n",
      "Epoch 2/20\n",
      "17640/17640 [==============================] - 1s 76us/step - loss: 0.3861 - acc: 0.8849 - val_loss: 0.2349 - val_acc: 0.9291\n",
      "Epoch 3/20\n",
      "17640/17640 [==============================] - 1s 75us/step - loss: 0.2911 - acc: 0.9128 - val_loss: 0.1989 - val_acc: 0.9384\n",
      "Epoch 4/20\n",
      "17640/17640 [==============================] - 1s 76us/step - loss: 0.2437 - acc: 0.9270 - val_loss: 0.1746 - val_acc: 0.9468\n",
      "Epoch 5/20\n",
      "17640/17640 [==============================] - 1s 76us/step - loss: 0.2035 - acc: 0.9373 - val_loss: 0.1543 - val_acc: 0.9513\n",
      "Epoch 6/20\n",
      "17640/17640 [==============================] - 1s 78us/step - loss: 0.1832 - acc: 0.9443 - val_loss: 0.1435 - val_acc: 0.9552\n",
      "Epoch 7/20\n",
      "17640/17640 [==============================] - 1s 77us/step - loss: 0.1633 - acc: 0.9500 - val_loss: 0.1330 - val_acc: 0.9594\n",
      "Epoch 8/20\n",
      "17640/17640 [==============================] - 1s 80us/step - loss: 0.1520 - acc: 0.9534 - val_loss: 0.1292 - val_acc: 0.9606\n",
      "Epoch 9/20\n",
      "17640/17640 [==============================] - 1s 80us/step - loss: 0.1343 - acc: 0.9588 - val_loss: 0.1277 - val_acc: 0.9608\n",
      "Epoch 10/20\n",
      "17640/17640 [==============================] - 1s 84us/step - loss: 0.1284 - acc: 0.9616 - val_loss: 0.1226 - val_acc: 0.9604\n",
      "Epoch 11/20\n",
      "17640/17640 [==============================] - 1s 82us/step - loss: 0.1123 - acc: 0.9657 - val_loss: 0.1175 - val_acc: 0.9646\n",
      "Epoch 12/20\n",
      "17640/17640 [==============================] - 1s 82us/step - loss: 0.1041 - acc: 0.9675 - val_loss: 0.1181 - val_acc: 0.9644\n",
      "Epoch 13/20\n",
      "17640/17640 [==============================] - 2s 88us/step - loss: 0.0939 - acc: 0.9712 - val_loss: 0.1168 - val_acc: 0.9638\n",
      "Epoch 14/20\n",
      "17640/17640 [==============================] - 2s 86us/step - loss: 0.0924 - acc: 0.9702 - val_loss: 0.1130 - val_acc: 0.9668\n",
      "Epoch 15/20\n",
      "17640/17640 [==============================] - 1s 83us/step - loss: 0.0847 - acc: 0.9732 - val_loss: 0.1133 - val_acc: 0.9660\n",
      "Epoch 16/20\n",
      "17640/17640 [==============================] - 1s 77us/step - loss: 0.0806 - acc: 0.9743 - val_loss: 0.1144 - val_acc: 0.9667\n",
      "Epoch 17/20\n",
      "17640/17640 [==============================] - 1s 78us/step - loss: 0.0767 - acc: 0.9749 - val_loss: 0.1049 - val_acc: 0.9685\n",
      "Epoch 18/20\n",
      "17640/17640 [==============================] - 1s 77us/step - loss: 0.0742 - acc: 0.9757 - val_loss: 0.1095 - val_acc: 0.9675\n",
      "Epoch 19/20\n",
      "17640/17640 [==============================] - 1s 77us/step - loss: 0.0645 - acc: 0.9804 - val_loss: 0.1148 - val_acc: 0.9659\n",
      "Epoch 20/20\n",
      "17640/17640 [==============================] - 1s 77us/step - loss: 0.0639 - acc: 0.9800 - val_loss: 0.1098 - val_acc: 0.9680\n"
     ]
    }
   ],
   "source": [
    "HIDDEN_NUM = 128\n",
    "nn_model = Sequential()\n",
    "nn_model.add(Dense(HIDDEN_NUM, input_shape=(FLATTEN_SIZE,)))\n",
    "nn_model.add(Activation(\"relu\"))\n",
    "nn_model.add(Dropout(0.3))\n",
    "nn_model.add(Dense(HIDDEN_NUM))\n",
    "nn_model.add(Activation(\"relu\"))\n",
    "nn_model.add(Dropout(0.3))\n",
    "nn_model.add(Dense(CLASS_NUM))\n",
    "nn_model.add(Activation(\"softmax\"))\n",
    "\n",
    "nn_model.compile(loss=\"categorical_crossentropy\", \n",
    "                  optimizer=Adam(), \n",
    "                  metrics=[\"accuracy\"])\n",
    "\n",
    "history = nn_model.fit(X_train, y_train, verbose=1,\n",
    "             epochs=EPOCH_SIZE, batch_size=BATCH_SIZE, validation_split=0.3)\n",
    "\n",
    "pred_y = nn_model.predict(test_data)"
   ]
  },
  {
   "cell_type": "code",
   "execution_count": 37,
   "metadata": {},
   "outputs": [],
   "source": [
    "results = np.argmax(pred_y,axis = 1)\n",
    "results = pd.Series(results, name=\"Label\")\n",
    "submission = pd.concat([pd.Series(range(1,28001), name = \"ImageId\"),results], axis = 1)\n",
    "submission.to_csv(\"digit_recognizer_nn.csv\",index=False) #.96485"
   ]
  }
 ],
 "metadata": {
  "kernelspec": {
   "display_name": "Python 3",
   "language": "python",
   "name": "python3"
  },
  "language_info": {
   "codemirror_mode": {
    "name": "ipython",
    "version": 3
   },
   "file_extension": ".py",
   "mimetype": "text/x-python",
   "name": "python",
   "nbconvert_exporter": "python",
   "pygments_lexer": "ipython3",
   "version": "3.6.4"
  }
 },
 "nbformat": 4,
 "nbformat_minor": 2
}
